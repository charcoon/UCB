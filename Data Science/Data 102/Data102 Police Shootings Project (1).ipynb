{
 "cells": [
  {
   "cell_type": "code",
   "metadata": {
    "tags": [],
    "deepnote_app_coordinates": {
     "x": 0,
     "y": 0,
     "w": 12,
     "h": 5
    },
    "cell_id": "00000-76323df2-30d7-4acc-b4c5-d804bc6d5bfb",
    "deepnote_to_be_reexecuted": false,
    "source_hash": "681e86b0",
    "execution_start": 1639463705740,
    "execution_millis": 4284,
    "deepnote_cell_type": "code"
   },
   "source": "!pip install ipywidgets",
   "execution_count": 84,
   "outputs": [
    {
     "name": "stdout",
     "text": "Requirement already satisfied: ipywidgets in /root/venv/lib/python3.7/site-packages (7.6.5)\nRequirement already satisfied: nbformat>=4.2.0 in /shared-libs/python3.7/py-core/lib/python3.7/site-packages (from ipywidgets) (5.1.3)\nRequirement already satisfied: ipykernel>=4.5.1 in /shared-libs/python3.7/py-core/lib/python3.7/site-packages (from ipywidgets) (5.5.5)\nRequirement already satisfied: jupyterlab-widgets>=1.0.0; python_version >= \"3.6\" in /root/venv/lib/python3.7/site-packages (from ipywidgets) (1.0.2)\nRequirement already satisfied: ipython>=4.0.0; python_version >= \"3.3\" in /shared-libs/python3.7/py-core/lib/python3.7/site-packages (from ipywidgets) (7.29.0)\nRequirement already satisfied: widgetsnbextension~=3.5.0 in /root/venv/lib/python3.7/site-packages (from ipywidgets) (3.5.2)\nRequirement already satisfied: ipython-genutils~=0.2.0 in /shared-libs/python3.7/py-core/lib/python3.7/site-packages (from ipywidgets) (0.2.0)\nRequirement already satisfied: traitlets>=4.3.1 in /shared-libs/python3.7/py-core/lib/python3.7/site-packages (from ipywidgets) (4.3.3)\nRequirement already satisfied: jupyter-core in /shared-libs/python3.7/py-core/lib/python3.7/site-packages (from nbformat>=4.2.0->ipywidgets) (4.7.1)\nRequirement already satisfied: jsonschema!=2.5.0,>=2.4 in /shared-libs/python3.7/py-core/lib/python3.7/site-packages (from nbformat>=4.2.0->ipywidgets) (3.2.0)\nRequirement already satisfied: jupyter-client in /shared-libs/python3.7/py-core/lib/python3.7/site-packages (from ipykernel>=4.5.1->ipywidgets) (6.1.12)\nRequirement already satisfied: tornado>=4.2 in /shared-libs/python3.7/py-core/lib/python3.7/site-packages (from ipykernel>=4.5.1->ipywidgets) (6.1)\nRequirement already satisfied: decorator in /shared-libs/python3.7/py-core/lib/python3.7/site-packages (from ipython>=4.0.0; python_version >= \"3.3\"->ipywidgets) (5.1.0)\nRequirement already satisfied: jedi>=0.16 in /shared-libs/python3.7/py-core/lib/python3.7/site-packages (from ipython>=4.0.0; python_version >= \"3.3\"->ipywidgets) (0.17.2)\nRequirement already satisfied: pexpect>4.3; sys_platform != \"win32\" in /shared-libs/python3.7/py-core/lib/python3.7/site-packages (from ipython>=4.0.0; python_version >= \"3.3\"->ipywidgets) (4.8.0)\nRequirement already satisfied: backcall in /shared-libs/python3.7/py-core/lib/python3.7/site-packages (from ipython>=4.0.0; python_version >= \"3.3\"->ipywidgets) (0.2.0)\nRequirement already satisfied: matplotlib-inline in /shared-libs/python3.7/py-core/lib/python3.7/site-packages (from ipython>=4.0.0; python_version >= \"3.3\"->ipywidgets) (0.1.3)\nRequirement already satisfied: setuptools>=18.5 in /root/venv/lib/python3.7/site-packages (from ipython>=4.0.0; python_version >= \"3.3\"->ipywidgets) (47.1.0)\nRequirement already satisfied: pickleshare in /shared-libs/python3.7/py-core/lib/python3.7/site-packages (from ipython>=4.0.0; python_version >= \"3.3\"->ipywidgets) (0.7.5)\nRequirement already satisfied: pygments in /shared-libs/python3.7/py-core/lib/python3.7/site-packages (from ipython>=4.0.0; python_version >= \"3.3\"->ipywidgets) (2.10.0)\nRequirement already satisfied: prompt-toolkit!=3.0.0,!=3.0.1,<3.1.0,>=2.0.0 in /shared-libs/python3.7/py-core/lib/python3.7/site-packages (from ipython>=4.0.0; python_version >= \"3.3\"->ipywidgets) (3.0.22)\nRequirement already satisfied: notebook>=4.4.1 in /shared-libs/python3.7/py-core/lib/python3.7/site-packages (from widgetsnbextension~=3.5.0->ipywidgets) (6.3.0)\nRequirement already satisfied: six in /shared-libs/python3.7/py-core/lib/python3.7/site-packages (from traitlets>=4.3.1->ipywidgets) (1.16.0)\nRequirement already satisfied: importlib-metadata; python_version < \"3.8\" in /shared-libs/python3.7/py-core/lib/python3.7/site-packages (from jsonschema!=2.5.0,>=2.4->nbformat>=4.2.0->ipywidgets) (4.8.2)\nRequirement already satisfied: pyrsistent>=0.14.0 in /shared-libs/python3.7/py-core/lib/python3.7/site-packages (from jsonschema!=2.5.0,>=2.4->nbformat>=4.2.0->ipywidgets) (0.18.0)\nRequirement already satisfied: attrs>=17.4.0 in /shared-libs/python3.7/py-core/lib/python3.7/site-packages (from jsonschema!=2.5.0,>=2.4->nbformat>=4.2.0->ipywidgets) (21.2.0)\nRequirement already satisfied: python-dateutil>=2.1 in /shared-libs/python3.7/py-core/lib/python3.7/site-packages (from jupyter-client->ipykernel>=4.5.1->ipywidgets) (2.8.2)\nRequirement already satisfied: pyzmq>=13 in /shared-libs/python3.7/py-core/lib/python3.7/site-packages (from jupyter-client->ipykernel>=4.5.1->ipywidgets) (22.3.0)\nRequirement already satisfied: parso<0.8.0,>=0.7.0 in /shared-libs/python3.7/py-core/lib/python3.7/site-packages (from jedi>=0.16->ipython>=4.0.0; python_version >= \"3.3\"->ipywidgets) (0.7.1)\nRequirement already satisfied: ptyprocess>=0.5 in /shared-libs/python3.7/py-core/lib/python3.7/site-packages (from pexpect>4.3; sys_platform != \"win32\"->ipython>=4.0.0; python_version >= \"3.3\"->ipywidgets) (0.7.0)\nRequirement already satisfied: wcwidth in /shared-libs/python3.7/py-core/lib/python3.7/site-packages (from prompt-toolkit!=3.0.0,!=3.0.1,<3.1.0,>=2.0.0->ipython>=4.0.0; python_version >= \"3.3\"->ipywidgets) (0.2.5)\nRequirement already satisfied: Send2Trash>=1.5.0 in /shared-libs/python3.7/py-core/lib/python3.7/site-packages (from notebook>=4.4.1->widgetsnbextension~=3.5.0->ipywidgets) (1.8.0)\nRequirement already satisfied: prometheus-client in /shared-libs/python3.7/py-core/lib/python3.7/site-packages (from notebook>=4.4.1->widgetsnbextension~=3.5.0->ipywidgets) (0.12.0)\nRequirement already satisfied: terminado>=0.8.3 in /shared-libs/python3.7/py-core/lib/python3.7/site-packages (from notebook>=4.4.1->widgetsnbextension~=3.5.0->ipywidgets) (0.12.1)\nRequirement already satisfied: nbconvert==6.0.7 in /shared-libs/python3.7/py-core/lib/python3.7/site-packages (from notebook>=4.4.1->widgetsnbextension~=3.5.0->ipywidgets) (6.0.7)\nRequirement already satisfied: jinja2 in /shared-libs/python3.7/py-core/lib/python3.7/site-packages (from notebook>=4.4.1->widgetsnbextension~=3.5.0->ipywidgets) (3.0.3)\nRequirement already satisfied: argon2-cffi in /shared-libs/python3.7/py-core/lib/python3.7/site-packages (from notebook>=4.4.1->widgetsnbextension~=3.5.0->ipywidgets) (21.1.0)\nRequirement already satisfied: zipp>=0.5 in /shared-libs/python3.7/py-core/lib/python3.7/site-packages (from importlib-metadata; python_version < \"3.8\"->jsonschema!=2.5.0,>=2.4->nbformat>=4.2.0->ipywidgets) (3.6.0)\nRequirement already satisfied: typing-extensions>=3.6.4; python_version < \"3.8\" in /shared-libs/python3.7/py-core/lib/python3.7/site-packages (from importlib-metadata; python_version < \"3.8\"->jsonschema!=2.5.0,>=2.4->nbformat>=4.2.0->ipywidgets) (3.10.0.2)\nRequirement already satisfied: mistune<2,>=0.8.1 in /shared-libs/python3.7/py-core/lib/python3.7/site-packages (from nbconvert==6.0.7->notebook>=4.4.1->widgetsnbextension~=3.5.0->ipywidgets) (0.8.4)\nRequirement already satisfied: jupyterlab-pygments in /shared-libs/python3.7/py-core/lib/python3.7/site-packages (from nbconvert==6.0.7->notebook>=4.4.1->widgetsnbextension~=3.5.0->ipywidgets) (0.1.2)\nRequirement already satisfied: nbclient<0.6.0,>=0.5.0 in /shared-libs/python3.7/py-core/lib/python3.7/site-packages (from nbconvert==6.0.7->notebook>=4.4.1->widgetsnbextension~=3.5.0->ipywidgets) (0.5.8)\nRequirement already satisfied: defusedxml in /shared-libs/python3.7/py-core/lib/python3.7/site-packages (from nbconvert==6.0.7->notebook>=4.4.1->widgetsnbextension~=3.5.0->ipywidgets) (0.7.1)\nRequirement already satisfied: testpath in /shared-libs/python3.7/py-core/lib/python3.7/site-packages (from nbconvert==6.0.7->notebook>=4.4.1->widgetsnbextension~=3.5.0->ipywidgets) (0.5.0)\nRequirement already satisfied: pandocfilters>=1.4.1 in /shared-libs/python3.7/py-core/lib/python3.7/site-packages (from nbconvert==6.0.7->notebook>=4.4.1->widgetsnbextension~=3.5.0->ipywidgets) (1.5.0)\nRequirement already satisfied: bleach in /shared-libs/python3.7/py-core/lib/python3.7/site-packages (from nbconvert==6.0.7->notebook>=4.4.1->widgetsnbextension~=3.5.0->ipywidgets) (4.1.0)\nRequirement already satisfied: entrypoints>=0.2.2 in /shared-libs/python3.7/py-core/lib/python3.7/site-packages (from nbconvert==6.0.7->notebook>=4.4.1->widgetsnbextension~=3.5.0->ipywidgets) (0.3)\nRequirement already satisfied: MarkupSafe>=2.0 in /shared-libs/python3.7/py-core/lib/python3.7/site-packages (from jinja2->notebook>=4.4.1->widgetsnbextension~=3.5.0->ipywidgets) (2.0.1)\nRequirement already satisfied: cffi>=1.0.0 in /shared-libs/python3.7/py-core/lib/python3.7/site-packages (from argon2-cffi->notebook>=4.4.1->widgetsnbextension~=3.5.0->ipywidgets) (1.15.0)\nRequirement already satisfied: nest-asyncio in /shared-libs/python3.7/py-core/lib/python3.7/site-packages (from nbclient<0.6.0,>=0.5.0->nbconvert==6.0.7->notebook>=4.4.1->widgetsnbextension~=3.5.0->ipywidgets) (1.5.1)\nRequirement already satisfied: webencodings in /shared-libs/python3.7/py-core/lib/python3.7/site-packages (from bleach->nbconvert==6.0.7->notebook>=4.4.1->widgetsnbextension~=3.5.0->ipywidgets) (0.5.1)\nRequirement already satisfied: packaging in /shared-libs/python3.7/py-core/lib/python3.7/site-packages (from bleach->nbconvert==6.0.7->notebook>=4.4.1->widgetsnbextension~=3.5.0->ipywidgets) (21.2)\nRequirement already satisfied: pycparser in /shared-libs/python3.7/py-core/lib/python3.7/site-packages (from cffi>=1.0.0->argon2-cffi->notebook>=4.4.1->widgetsnbextension~=3.5.0->ipywidgets) (2.21)\nRequirement already satisfied: pyparsing<3,>=2.0.2 in /shared-libs/python3.7/py-core/lib/python3.7/site-packages (from packaging->bleach->nbconvert==6.0.7->notebook>=4.4.1->widgetsnbextension~=3.5.0->ipywidgets) (2.4.7)\n\u001b[33mWARNING: You are using pip version 20.1.1; however, version 21.3.1 is available.\nYou should consider upgrading via the '/root/venv/bin/python -m pip install --upgrade pip' command.\u001b[0m\n",
     "output_type": "stream",
     "data": {}
    }
   ]
  },
  {
   "cell_type": "code",
   "metadata": {
    "tags": [],
    "deepnote_app_coordinates": {
     "x": 0,
     "y": 0,
     "w": 12,
     "h": 5
    },
    "cell_id": "00001-eaa319ef-9afc-483a-bed9-f5b00759f7a6",
    "deepnote_to_be_reexecuted": false,
    "source_hash": "c1edd451",
    "execution_start": 1639463710036,
    "execution_millis": 4019,
    "deepnote_cell_type": "code"
   },
   "source": "! pip install graphviz",
   "execution_count": 85,
   "outputs": [
    {
     "name": "stdout",
     "text": "Requirement already satisfied: graphviz in /root/venv/lib/python3.7/site-packages (0.19.1)\n\u001b[33mWARNING: You are using pip version 20.1.1; however, version 21.3.1 is available.\nYou should consider upgrading via the '/root/venv/bin/python -m pip install --upgrade pip' command.\u001b[0m\n",
     "output_type": "stream",
     "data": {}
    }
   ]
  },
  {
   "cell_type": "code",
   "metadata": {
    "cell_id": "00000-f6b79444-cbdc-48fc-bee1-b2d43604d522",
    "deepnote_to_be_reexecuted": false,
    "source_hash": "eb592bab",
    "execution_start": 1639463714071,
    "execution_millis": 70,
    "deepnote_app_coordinates": {
     "x": 0,
     "y": null,
     "w": 12,
     "h": 5
    },
    "deepnote_output_heights": [
     21.1875,
     21.1875
    ],
    "deepnote_cell_type": "code"
   },
   "source": "import warnings\nwarnings.filterwarnings(\"ignore\")\n\nimport pandas as pd\nimport numpy as np\nimport matplotlib.pyplot as plt\nimport seaborn as sns\nimport re\nimport matplotlib.pyplot as plt\nimport numpy as np\nimport pandas as pd\nimport seaborn as sns\nfrom scipy.stats import beta, binom\nimport itertools\nfrom ipywidgets import interact, interactive\nimport pymc3 as pm\n\npm.__version__",
   "execution_count": 86,
   "outputs": [
    {
     "output_type": "execute_result",
     "execution_count": 86,
     "data": {
      "text/plain": "'3.11.4'"
     },
     "metadata": {}
    }
   ]
  },
  {
   "cell_type": "markdown",
   "source": "# EDA",
   "metadata": {
    "tags": [],
    "is_collapsed": false,
    "cell_id": "00001-50ab08e3-e460-4a16-9746-588eac766c5d",
    "deepnote_app_coordinates": {
     "x": 0,
     "y": 6,
     "w": 12,
     "h": 2
    },
    "deepnote_cell_type": "text-cell-h1"
   }
  },
  {
   "cell_type": "markdown",
   "source": "Research Questions:\\\nHypothesis Testing \n1) Is the rate at which African Americans are shot different than would be expected given population proportions and does this change depending on armed status and on if the officer(s) had a body camera?\n\nBayesian Hierarchical Model\\\n2) What is the rate at which African Americans are shot assuming that police shootings of African Americans are under-reported?",
   "metadata": {
    "cell_id": "00001-368d793d-a7d6-4279-b6a5-f44f3fb054f8",
    "deepnote_app_coordinates": {
     "x": 0,
     "y": 9,
     "w": 12,
     "h": 5
    },
    "deepnote_cell_type": "markdown"
   }
  },
  {
   "cell_type": "code",
   "metadata": {
    "scrolled": true,
    "cell_id": "00002-8a341ae0-0fb0-44b5-abae-5112ed003d73",
    "deepnote_output_heights": [
     180.390625
    ],
    "deepnote_to_be_reexecuted": false,
    "source_hash": "1ca9c5e2",
    "execution_start": 1639463714099,
    "execution_millis": 170,
    "deepnote_app_coordinates": {
     "x": 0,
     "y": 15,
     "w": 12,
     "h": 5
    },
    "deepnote_cell_type": "code"
   },
   "source": "# reads in current dataset from Washington Post github\ndata = pd.read_csv('https://raw.githubusercontent.com/washingtonpost/data-police-shootings/master/fatal-police-shootings-data.csv')\ndata.head()",
   "execution_count": 87,
   "outputs": [
    {
     "output_type": "execute_result",
     "execution_count": 87,
     "data": {
      "application/vnd.deepnote.dataframe.v2+json": {
       "row_count": 5,
       "column_count": 17,
       "columns": [
        {
         "name": "id",
         "dtype": "int64",
         "stats": {
          "unique_count": 5,
          "nan_count": 0,
          "min": "3",
          "max": "9",
          "histogram": [
           {
            "bin_start": 3,
            "bin_end": 3.6,
            "count": 1
           },
           {
            "bin_start": 3.6,
            "bin_end": 4.2,
            "count": 1
           },
           {
            "bin_start": 4.2,
            "bin_end": 4.8,
            "count": 0
           },
           {
            "bin_start": 4.8,
            "bin_end": 5.4,
            "count": 1
           },
           {
            "bin_start": 5.4,
            "bin_end": 6,
            "count": 0
           },
           {
            "bin_start": 6,
            "bin_end": 6.6,
            "count": 0
           },
           {
            "bin_start": 6.6,
            "bin_end": 7.2,
            "count": 0
           },
           {
            "bin_start": 7.2,
            "bin_end": 7.8,
            "count": 0
           },
           {
            "bin_start": 7.8,
            "bin_end": 8.399999999999999,
            "count": 1
           },
           {
            "bin_start": 8.399999999999999,
            "bin_end": 9,
            "count": 1
           }
          ]
         }
        },
        {
         "name": "name",
         "dtype": "object",
         "stats": {
          "unique_count": 5,
          "nan_count": 0,
          "categories": [
           {
            "name": "Tim Elliot",
            "count": 1
           },
           {
            "name": "Lewis Lee Lembke",
            "count": 1
           },
           {
            "name": "3 others",
            "count": 3
           }
          ]
         }
        },
        {
         "name": "date",
         "dtype": "object",
         "stats": {
          "unique_count": 3,
          "nan_count": 0,
          "categories": [
           {
            "name": "2015-01-02",
            "count": 2
           },
           {
            "name": "2015-01-04",
            "count": 2
           },
           {
            "name": "2015-01-03",
            "count": 1
           }
          ]
         }
        },
        {
         "name": "manner_of_death",
         "dtype": "object",
         "stats": {
          "unique_count": 2,
          "nan_count": 0,
          "categories": [
           {
            "name": "shot",
            "count": 4
           },
           {
            "name": "shot and Tasered",
            "count": 1
           }
          ]
         }
        },
        {
         "name": "armed",
         "dtype": "object",
         "stats": {
          "unique_count": 4,
          "nan_count": 0,
          "categories": [
           {
            "name": "gun",
            "count": 2
           },
           {
            "name": "unarmed",
            "count": 1
           },
           {
            "name": "2 others",
            "count": 2
           }
          ]
         }
        },
        {
         "name": "age",
         "dtype": "float64",
         "stats": {
          "unique_count": 5,
          "nan_count": 0,
          "min": "23.0",
          "max": "53.0",
          "histogram": [
           {
            "bin_start": 23,
            "bin_end": 26,
            "count": 1
           },
           {
            "bin_start": 26,
            "bin_end": 29,
            "count": 0
           },
           {
            "bin_start": 29,
            "bin_end": 32,
            "count": 0
           },
           {
            "bin_start": 32,
            "bin_end": 35,
            "count": 1
           },
           {
            "bin_start": 35,
            "bin_end": 38,
            "count": 0
           },
           {
            "bin_start": 38,
            "bin_end": 41,
            "count": 1
           },
           {
            "bin_start": 41,
            "bin_end": 44,
            "count": 0
           },
           {
            "bin_start": 44,
            "bin_end": 47,
            "count": 0
           },
           {
            "bin_start": 47,
            "bin_end": 50,
            "count": 1
           },
           {
            "bin_start": 50,
            "bin_end": 53,
            "count": 1
           }
          ]
         }
        },
        {
         "name": "gender",
         "dtype": "object",
         "stats": {
          "unique_count": 1,
          "nan_count": 0,
          "categories": [
           {
            "name": "M",
            "count": 5
           }
          ]
         }
        },
        {
         "name": "race",
         "dtype": "object",
         "stats": {
          "unique_count": 3,
          "nan_count": 0,
          "categories": [
           {
            "name": "W",
            "count": 2
           },
           {
            "name": "H",
            "count": 2
           },
           {
            "name": "A",
            "count": 1
           }
          ]
         }
        },
        {
         "name": "city",
         "dtype": "object",
         "stats": {
          "unique_count": 5,
          "nan_count": 0,
          "categories": [
           {
            "name": "Shelton",
            "count": 1
           },
           {
            "name": "Aloha",
            "count": 1
           },
           {
            "name": "3 others",
            "count": 3
           }
          ]
         }
        },
        {
         "name": "state",
         "dtype": "object",
         "stats": {
          "unique_count": 5,
          "nan_count": 0,
          "categories": [
           {
            "name": "WA",
            "count": 1
           },
           {
            "name": "OR",
            "count": 1
           },
           {
            "name": "3 others",
            "count": 3
           }
          ]
         }
        },
        {
         "name": "signs_of_mental_illness",
         "dtype": "bool",
         "stats": {
          "unique_count": 2,
          "nan_count": 0,
          "categories": [
           {
            "name": "False",
            "count": 3
           },
           {
            "name": "True",
            "count": 2
           }
          ]
         }
        },
        {
         "name": "threat_level",
         "dtype": "object",
         "stats": {
          "unique_count": 2,
          "nan_count": 0,
          "categories": [
           {
            "name": "attack",
            "count": 4
           },
           {
            "name": "other",
            "count": 1
           }
          ]
         }
        },
        {
         "name": "flee",
         "dtype": "object",
         "stats": {
          "unique_count": 1,
          "nan_count": 0,
          "categories": [
           {
            "name": "Not fleeing",
            "count": 5
           }
          ]
         }
        },
        {
         "name": "body_camera",
         "dtype": "bool",
         "stats": {
          "unique_count": 1,
          "nan_count": 0,
          "categories": [
           {
            "name": "False",
            "count": 5
           }
          ]
         }
        },
        {
         "name": "longitude",
         "dtype": "float64",
         "stats": {
          "unique_count": 5,
          "nan_count": 0,
          "min": "-123.122",
          "max": "-97.281",
          "histogram": [
           {
            "bin_start": -123.122,
            "bin_end": -120.53790000000001,
            "count": 3
           },
           {
            "bin_start": -120.53790000000001,
            "bin_end": -117.9538,
            "count": 0
           },
           {
            "bin_start": -117.9538,
            "bin_end": -115.3697,
            "count": 0
           },
           {
            "bin_start": -115.3697,
            "bin_end": -112.7856,
            "count": 0
           },
           {
            "bin_start": -112.7856,
            "bin_end": -110.20150000000001,
            "count": 0
           },
           {
            "bin_start": -110.20150000000001,
            "bin_end": -107.6174,
            "count": 0
           },
           {
            "bin_start": -107.6174,
            "bin_end": -105.0333,
            "count": 0
           },
           {
            "bin_start": -105.0333,
            "bin_end": -102.4492,
            "count": 1
           },
           {
            "bin_start": -102.4492,
            "bin_end": -99.86510000000001,
            "count": 0
           },
           {
            "bin_start": -99.86510000000001,
            "bin_end": -97.281,
            "count": 1
           }
          ]
         }
        },
        {
         "name": "latitude",
         "dtype": "float64",
         "stats": {
          "unique_count": 5,
          "nan_count": 0,
          "min": "37.695",
          "max": "47.247",
          "histogram": [
           {
            "bin_start": 37.695,
            "bin_end": 38.6502,
            "count": 2
           },
           {
            "bin_start": 38.6502,
            "bin_end": 39.6054,
            "count": 0
           },
           {
            "bin_start": 39.6054,
            "bin_end": 40.5606,
            "count": 1
           },
           {
            "bin_start": 40.5606,
            "bin_end": 41.5158,
            "count": 0
           },
           {
            "bin_start": 41.5158,
            "bin_end": 42.471000000000004,
            "count": 0
           },
           {
            "bin_start": 42.471000000000004,
            "bin_end": 43.4262,
            "count": 0
           },
           {
            "bin_start": 43.4262,
            "bin_end": 44.3814,
            "count": 0
           },
           {
            "bin_start": 44.3814,
            "bin_end": 45.3366,
            "count": 0
           },
           {
            "bin_start": 45.3366,
            "bin_end": 46.2918,
            "count": 1
           },
           {
            "bin_start": 46.2918,
            "bin_end": 47.247,
            "count": 1
           }
          ]
         }
        },
        {
         "name": "is_geocoding_exact",
         "dtype": "bool",
         "stats": {
          "unique_count": 1,
          "nan_count": 0,
          "categories": [
           {
            "name": "True",
            "count": 5
           }
          ]
         }
        },
        {
         "name": "_deepnote_index_column",
         "dtype": "int64"
        }
       ],
       "rows_top": [
        {
         "id": 3,
         "name": "Tim Elliot",
         "date": "2015-01-02",
         "manner_of_death": "shot",
         "armed": "gun",
         "age": 53,
         "gender": "M",
         "race": "A",
         "city": "Shelton",
         "state": "WA",
         "signs_of_mental_illness": true,
         "threat_level": "attack",
         "flee": "Not fleeing",
         "body_camera": false,
         "longitude": -123.122,
         "latitude": 47.247,
         "is_geocoding_exact": true,
         "_deepnote_index_column": 0
        },
        {
         "id": 4,
         "name": "Lewis Lee Lembke",
         "date": "2015-01-02",
         "manner_of_death": "shot",
         "armed": "gun",
         "age": 47,
         "gender": "M",
         "race": "W",
         "city": "Aloha",
         "state": "OR",
         "signs_of_mental_illness": false,
         "threat_level": "attack",
         "flee": "Not fleeing",
         "body_camera": false,
         "longitude": -122.892,
         "latitude": 45.487,
         "is_geocoding_exact": true,
         "_deepnote_index_column": 1
        },
        {
         "id": 5,
         "name": "John Paul Quintero",
         "date": "2015-01-03",
         "manner_of_death": "shot and Tasered",
         "armed": "unarmed",
         "age": 23,
         "gender": "M",
         "race": "H",
         "city": "Wichita",
         "state": "KS",
         "signs_of_mental_illness": false,
         "threat_level": "other",
         "flee": "Not fleeing",
         "body_camera": false,
         "longitude": -97.281,
         "latitude": 37.695,
         "is_geocoding_exact": true,
         "_deepnote_index_column": 2
        },
        {
         "id": 8,
         "name": "Matthew Hoffman",
         "date": "2015-01-04",
         "manner_of_death": "shot",
         "armed": "toy weapon",
         "age": 32,
         "gender": "M",
         "race": "W",
         "city": "San Francisco",
         "state": "CA",
         "signs_of_mental_illness": true,
         "threat_level": "attack",
         "flee": "Not fleeing",
         "body_camera": false,
         "longitude": -122.422,
         "latitude": 37.763,
         "is_geocoding_exact": true,
         "_deepnote_index_column": 3
        },
        {
         "id": 9,
         "name": "Michael Rodriguez",
         "date": "2015-01-04",
         "manner_of_death": "shot",
         "armed": "nail gun",
         "age": 39,
         "gender": "M",
         "race": "H",
         "city": "Evans",
         "state": "CO",
         "signs_of_mental_illness": false,
         "threat_level": "attack",
         "flee": "Not fleeing",
         "body_camera": false,
         "longitude": -104.692,
         "latitude": 40.384,
         "is_geocoding_exact": true,
         "_deepnote_index_column": 4
        }
       ],
       "rows_bottom": null
      },
      "text/plain": "   id                name        date   manner_of_death       armed   age  \\\n0   3          Tim Elliot  2015-01-02              shot         gun  53.0   \n1   4    Lewis Lee Lembke  2015-01-02              shot         gun  47.0   \n2   5  John Paul Quintero  2015-01-03  shot and Tasered     unarmed  23.0   \n3   8     Matthew Hoffman  2015-01-04              shot  toy weapon  32.0   \n4   9   Michael Rodriguez  2015-01-04              shot    nail gun  39.0   \n\n  gender race           city state  signs_of_mental_illness threat_level  \\\n0      M    A        Shelton    WA                     True       attack   \n1      M    W          Aloha    OR                    False       attack   \n2      M    H        Wichita    KS                    False        other   \n3      M    W  San Francisco    CA                     True       attack   \n4      M    H          Evans    CO                    False       attack   \n\n          flee  body_camera  longitude  latitude  is_geocoding_exact  \n0  Not fleeing        False   -123.122    47.247                True  \n1  Not fleeing        False   -122.892    45.487                True  \n2  Not fleeing        False    -97.281    37.695                True  \n3  Not fleeing        False   -122.422    37.763                True  \n4  Not fleeing        False   -104.692    40.384                True  ",
      "text/html": "<div>\n<style scoped>\n    .dataframe tbody tr th:only-of-type {\n        vertical-align: middle;\n    }\n\n    .dataframe tbody tr th {\n        vertical-align: top;\n    }\n\n    .dataframe thead th {\n        text-align: right;\n    }\n</style>\n<table border=\"1\" class=\"dataframe\">\n  <thead>\n    <tr style=\"text-align: right;\">\n      <th></th>\n      <th>id</th>\n      <th>name</th>\n      <th>date</th>\n      <th>manner_of_death</th>\n      <th>armed</th>\n      <th>age</th>\n      <th>gender</th>\n      <th>race</th>\n      <th>city</th>\n      <th>state</th>\n      <th>signs_of_mental_illness</th>\n      <th>threat_level</th>\n      <th>flee</th>\n      <th>body_camera</th>\n      <th>longitude</th>\n      <th>latitude</th>\n      <th>is_geocoding_exact</th>\n    </tr>\n  </thead>\n  <tbody>\n    <tr>\n      <th>0</th>\n      <td>3</td>\n      <td>Tim Elliot</td>\n      <td>2015-01-02</td>\n      <td>shot</td>\n      <td>gun</td>\n      <td>53.0</td>\n      <td>M</td>\n      <td>A</td>\n      <td>Shelton</td>\n      <td>WA</td>\n      <td>True</td>\n      <td>attack</td>\n      <td>Not fleeing</td>\n      <td>False</td>\n      <td>-123.122</td>\n      <td>47.247</td>\n      <td>True</td>\n    </tr>\n    <tr>\n      <th>1</th>\n      <td>4</td>\n      <td>Lewis Lee Lembke</td>\n      <td>2015-01-02</td>\n      <td>shot</td>\n      <td>gun</td>\n      <td>47.0</td>\n      <td>M</td>\n      <td>W</td>\n      <td>Aloha</td>\n      <td>OR</td>\n      <td>False</td>\n      <td>attack</td>\n      <td>Not fleeing</td>\n      <td>False</td>\n      <td>-122.892</td>\n      <td>45.487</td>\n      <td>True</td>\n    </tr>\n    <tr>\n      <th>2</th>\n      <td>5</td>\n      <td>John Paul Quintero</td>\n      <td>2015-01-03</td>\n      <td>shot and Tasered</td>\n      <td>unarmed</td>\n      <td>23.0</td>\n      <td>M</td>\n      <td>H</td>\n      <td>Wichita</td>\n      <td>KS</td>\n      <td>False</td>\n      <td>other</td>\n      <td>Not fleeing</td>\n      <td>False</td>\n      <td>-97.281</td>\n      <td>37.695</td>\n      <td>True</td>\n    </tr>\n    <tr>\n      <th>3</th>\n      <td>8</td>\n      <td>Matthew Hoffman</td>\n      <td>2015-01-04</td>\n      <td>shot</td>\n      <td>toy weapon</td>\n      <td>32.0</td>\n      <td>M</td>\n      <td>W</td>\n      <td>San Francisco</td>\n      <td>CA</td>\n      <td>True</td>\n      <td>attack</td>\n      <td>Not fleeing</td>\n      <td>False</td>\n      <td>-122.422</td>\n      <td>37.763</td>\n      <td>True</td>\n    </tr>\n    <tr>\n      <th>4</th>\n      <td>9</td>\n      <td>Michael Rodriguez</td>\n      <td>2015-01-04</td>\n      <td>shot</td>\n      <td>nail gun</td>\n      <td>39.0</td>\n      <td>M</td>\n      <td>H</td>\n      <td>Evans</td>\n      <td>CO</td>\n      <td>False</td>\n      <td>attack</td>\n      <td>Not fleeing</td>\n      <td>False</td>\n      <td>-104.692</td>\n      <td>40.384</td>\n      <td>True</td>\n    </tr>\n  </tbody>\n</table>\n</div>"
     },
     "metadata": {}
    }
   ]
  },
  {
   "cell_type": "markdown",
   "source": "### Variable Visualization",
   "metadata": {
    "cell_id": "00004-37480327-3c68-4bf0-b095-df922e08a420",
    "deepnote_app_coordinates": {
     "x": 0,
     "y": 21,
     "w": 12,
     "h": 5
    },
    "deepnote_cell_type": "markdown"
   }
  },
  {
   "cell_type": "code",
   "metadata": {
    "cell_id": "00005-a7dbd575-cd32-4df3-bf27-402c1ff9c18a",
    "deepnote_to_be_reexecuted": false,
    "source_hash": "d9ecd6f9",
    "execution_start": 1639463714315,
    "execution_millis": 3,
    "deepnote_output_heights": [
     155.5
    ],
    "deepnote_app_coordinates": {
     "x": 0,
     "y": 27,
     "w": 12,
     "h": 5
    },
    "deepnote_cell_type": "code"
   },
   "source": "counts_by_race = data[['race']].groupby('race').size()\ncounts_by_race",
   "execution_count": 88,
   "outputs": [
    {
     "output_type": "execute_result",
     "execution_count": 88,
     "data": {
      "text/plain": "race\nA     106\nB    1557\nH    1084\nN      91\nO      47\nW    2970\ndtype: int64"
     },
     "metadata": {}
    }
   ]
  },
  {
   "cell_type": "code",
   "metadata": {
    "cell_id": "00006-11a89e9b-55f4-4054-8199-59beeacff94a",
    "deepnote_to_be_reexecuted": false,
    "source_hash": "cd9dd1ef",
    "execution_start": 1639463714317,
    "execution_millis": 314,
    "deepnote_output_heights": [
     280
    ],
    "deepnote_app_coordinates": {
     "x": 0,
     "y": 33,
     "w": 12,
     "h": 5
    },
    "deepnote_cell_type": "code"
   },
   "source": "# O:'Other', N: 'Native American', A: 'Asian', H: 'Hispanic', B: 'Black, non-Hispanic', W: 'White, non-Hispanic'\n\nsns.barplot(counts_by_race.index, \n            counts_by_race, \n            order=['O', 'N', 'A', 'H', 'B', 'W'], \n            palette = 'Blues_d')\nplt.xlabel('Race')\nplt.ylabel('# Of Police Shootings');\nplt.title('Number of Police Shootings by Race');\nplt.savefig('1.jpeg')",
   "execution_count": 89,
   "outputs": [
    {
     "data": {
      "text/plain": "<Figure size 432x288 with 1 Axes>",
      "image/png": "[encoded data removed]"
     },
     "metadata": {
      "needs_background": "light",
      "image/png": {
       "width": 395,
       "height": 278
      }
     },
     "output_type": "display_data"
    }
   ]
  },
  {
   "cell_type": "markdown",
   "source": "The ratio of Black deaths to White deaths is about 1/2. This is much different than their population proportions would suggest. We'll determine if this is significant using hypothesis testing.",
   "metadata": {
    "cell_id": "00007-43e49873-30ba-4677-94d8-ca8e35aa1314",
    "deepnote_app_coordinates": {
     "x": 0,
     "y": 39,
     "w": 12,
     "h": 5
    },
    "deepnote_cell_type": "markdown"
   }
  },
  {
   "cell_type": "code",
   "metadata": {
    "cell_id": "00008-60d37dab-8d78-4c91-a520-f5b9a170c12c",
    "deepnote_output_heights": [
     119
    ],
    "deepnote_to_be_reexecuted": false,
    "source_hash": "e1d0b140",
    "execution_start": 1639463714636,
    "execution_millis": 47,
    "deepnote_app_coordinates": {
     "x": 0,
     "y": 45,
     "w": 12,
     "h": 5
    },
    "deepnote_cell_type": "code"
   },
   "source": "# Drop null values\narmed_race_data = data[['armed', 'race']].dropna()\n# Get races used\nraces = list(armed_race_data['race'].unique())\n# group by armed status and race\narmed_race_data = armed_race_data.groupby(['race', 'armed']).size().sort_index(ascending=False).reset_index()\n# change 'armed' column to 'armed' or 'unarmed'\narmed_race_data['armed'] = ['unarmed' if x == 'unarmed' else 'armed' for x in armed_race_data['armed']]\n# Rename column\narmed_race_data = armed_race_data.rename(columns={0: 'count'})\n\narmed_race_data.head(3)\n",
   "execution_count": 90,
   "outputs": [
    {
     "output_type": "execute_result",
     "execution_count": 90,
     "data": {
      "application/vnd.deepnote.dataframe.v2+json": {
       "row_count": 3,
       "column_count": 3,
       "columns": [
        {
         "name": "race",
         "dtype": "object",
         "stats": {
          "unique_count": 1,
          "nan_count": 0,
          "categories": [
           {
            "name": "W",
            "count": 3
           }
          ]
         }
        },
        {
         "name": "armed",
         "dtype": "object",
         "stats": {
          "unique_count": 1,
          "nan_count": 0,
          "categories": [
           {
            "name": "armed",
            "count": 3
           }
          ]
         }
        },
        {
         "name": "count",
         "dtype": "int64",
         "stats": {
          "unique_count": 3,
          "nan_count": 0,
          "min": "1",
          "max": "86",
          "histogram": [
           {
            "bin_start": 1,
            "bin_end": 9.5,
            "count": 2
           },
           {
            "bin_start": 9.5,
            "bin_end": 18,
            "count": 0
           },
           {
            "bin_start": 18,
            "bin_end": 26.5,
            "count": 0
           },
           {
            "bin_start": 26.5,
            "bin_end": 35,
            "count": 0
           },
           {
            "bin_start": 35,
            "bin_end": 43.5,
            "count": 0
           },
           {
            "bin_start": 43.5,
            "bin_end": 52,
            "count": 0
           },
           {
            "bin_start": 52,
            "bin_end": 60.5,
            "count": 0
           },
           {
            "bin_start": 60.5,
            "bin_end": 69,
            "count": 0
           },
           {
            "bin_start": 69,
            "bin_end": 77.5,
            "count": 0
           },
           {
            "bin_start": 77.5,
            "bin_end": 86,
            "count": 1
           }
          ]
         }
        },
        {
         "name": "_deepnote_index_column",
         "dtype": "int64"
        }
       ],
       "rows_top": [
        {
         "race": "W",
         "armed": "armed",
         "count": 1,
         "_deepnote_index_column": 0
        },
        {
         "race": "W",
         "armed": "armed",
         "count": 3,
         "_deepnote_index_column": 1
        },
        {
         "race": "W",
         "armed": "armed",
         "count": 86,
         "_deepnote_index_column": 2
        }
       ],
       "rows_bottom": null
      },
      "text/plain": "  race  armed  count\n0    W  armed      1\n1    W  armed      3\n2    W  armed     86",
      "text/html": "<div>\n<style scoped>\n    .dataframe tbody tr th:only-of-type {\n        vertical-align: middle;\n    }\n\n    .dataframe tbody tr th {\n        vertical-align: top;\n    }\n\n    .dataframe thead th {\n        text-align: right;\n    }\n</style>\n<table border=\"1\" class=\"dataframe\">\n  <thead>\n    <tr style=\"text-align: right;\">\n      <th></th>\n      <th>race</th>\n      <th>armed</th>\n      <th>count</th>\n    </tr>\n  </thead>\n  <tbody>\n    <tr>\n      <th>0</th>\n      <td>W</td>\n      <td>armed</td>\n      <td>1</td>\n    </tr>\n    <tr>\n      <th>1</th>\n      <td>W</td>\n      <td>armed</td>\n      <td>3</td>\n    </tr>\n    <tr>\n      <th>2</th>\n      <td>W</td>\n      <td>armed</td>\n      <td>86</td>\n    </tr>\n  </tbody>\n</table>\n</div>"
     },
     "metadata": {}
    }
   ]
  },
  {
   "cell_type": "code",
   "metadata": {
    "cell_id": "00009-940f508e-0121-4923-9f69-12cdc85ebe10",
    "deepnote_to_be_reexecuted": false,
    "source_hash": "8979f09c",
    "execution_start": 1639463714742,
    "execution_millis": 708,
    "deepnote_output_heights": [
     295
    ],
    "deepnote_app_coordinates": {
     "x": 0,
     "y": 51,
     "w": 12,
     "h": 5
    },
    "deepnote_cell_type": "code"
   },
   "source": "# O:'Other', N: 'Native American', A: 'Asian', H: 'Hispanic', B: 'Black, non-Hispanic', W: 'White, non-Hispanic'\nsns.barplot(x='race', \n            y='count', \n            hue = 'armed',\n            data = armed_race_data,\n            order=['O', 'N', 'A', 'H', 'B', 'W'], \n            palette = 'Blues_d')\nplt.xlabel('Race')\nplt.ylabel('# Of Police Shootings');\nplt.title('Number of Police Shootings by \\nRace and Armed Status');\nplt.savefig('2.jpeg')",
   "execution_count": 91,
   "outputs": [
    {
     "data": {
      "text/plain": "<Figure size 432x288 with 1 Axes>",
      "image/png": "[encoded data removed]"
     },
     "metadata": {
      "needs_background": "light",
      "image/png": {
       "width": 389,
       "height": 293
      }
     },
     "output_type": "display_data"
    }
   ]
  },
  {
   "cell_type": "markdown",
   "source": "Ratios between races are much closer for armed than unarmed. It will be interesting to determine if this is significant.",
   "metadata": {
    "cell_id": "00010-09521e97-7e41-4900-a395-cea06444d776",
    "deepnote_app_coordinates": {
     "x": 0,
     "y": 57,
     "w": 12,
     "h": 5
    },
    "deepnote_cell_type": "markdown"
   }
  },
  {
   "cell_type": "code",
   "metadata": {
    "scrolled": true,
    "cell_id": "00012-8893e1cd-3445-4921-984b-2dc175264ea6",
    "deepnote_output_heights": [
     121.421875
    ],
    "deepnote_to_be_reexecuted": false,
    "source_hash": "7768ead4",
    "execution_start": 1639463715458,
    "execution_millis": 65,
    "deepnote_app_coordinates": {
     "x": 0,
     "y": 63,
     "w": 12,
     "h": 5
    },
    "deepnote_cell_type": "code"
   },
   "source": "deaths_by_month = data[['date']]\ndeaths_by_month['date'] = [re.findall(r'\\d{4}-\\d{2}', x)[0] for x in deaths_by_month['date']]\ndeaths_by_month = deaths_by_month.groupby('date').size().to_frame().reset_index().rename(columns={0: 'deaths'})\n\ndeaths_by_month.head(3)\n",
   "execution_count": 92,
   "outputs": [
    {
     "output_type": "execute_result",
     "execution_count": 92,
     "data": {
      "application/vnd.deepnote.dataframe.v2+json": {
       "row_count": 3,
       "column_count": 2,
       "columns": [
        {
         "name": "date",
         "dtype": "object",
         "stats": {
          "unique_count": 3,
          "nan_count": 0,
          "categories": [
           {
            "name": "2015-01",
            "count": 1
           },
           {
            "name": "2015-02",
            "count": 1
           },
           {
            "name": "2015-03",
            "count": 1
           }
          ]
         }
        },
        {
         "name": "deaths",
         "dtype": "int64",
         "stats": {
          "unique_count": 3,
          "nan_count": 0,
          "min": "76",
          "max": "92",
          "histogram": [
           {
            "bin_start": 76,
            "bin_end": 77.6,
            "count": 2
           },
           {
            "bin_start": 77.6,
            "bin_end": 79.2,
            "count": 0
           },
           {
            "bin_start": 79.2,
            "bin_end": 80.8,
            "count": 0
           },
           {
            "bin_start": 80.8,
            "bin_end": 82.4,
            "count": 0
           },
           {
            "bin_start": 82.4,
            "bin_end": 84,
            "count": 0
           },
           {
            "bin_start": 84,
            "bin_end": 85.6,
            "count": 0
           },
           {
            "bin_start": 85.6,
            "bin_end": 87.2,
            "count": 0
           },
           {
            "bin_start": 87.2,
            "bin_end": 88.8,
            "count": 0
           },
           {
            "bin_start": 88.8,
            "bin_end": 90.4,
            "count": 0
           },
           {
            "bin_start": 90.4,
            "bin_end": 92,
            "count": 1
           }
          ]
         }
        },
        {
         "name": "_deepnote_index_column",
         "dtype": "int64"
        }
       ],
       "rows_top": [
        {
         "date": "2015-01",
         "deaths": 76,
         "_deepnote_index_column": 0
        },
        {
         "date": "2015-02",
         "deaths": 77,
         "_deepnote_index_column": 1
        },
        {
         "date": "2015-03",
         "deaths": 92,
         "_deepnote_index_column": 2
        }
       ],
       "rows_bottom": null
      },
      "text/plain": "      date  deaths\n0  2015-01      76\n1  2015-02      77\n2  2015-03      92",
      "text/html": "<div>\n<style scoped>\n    .dataframe tbody tr th:only-of-type {\n        vertical-align: middle;\n    }\n\n    .dataframe tbody tr th {\n        vertical-align: top;\n    }\n\n    .dataframe thead th {\n        text-align: right;\n    }\n</style>\n<table border=\"1\" class=\"dataframe\">\n  <thead>\n    <tr style=\"text-align: right;\">\n      <th></th>\n      <th>date</th>\n      <th>deaths</th>\n    </tr>\n  </thead>\n  <tbody>\n    <tr>\n      <th>0</th>\n      <td>2015-01</td>\n      <td>76</td>\n    </tr>\n    <tr>\n      <th>1</th>\n      <td>2015-02</td>\n      <td>77</td>\n    </tr>\n    <tr>\n      <th>2</th>\n      <td>2015-03</td>\n      <td>92</td>\n    </tr>\n  </tbody>\n</table>\n</div>"
     },
     "metadata": {}
    }
   ]
  },
  {
   "cell_type": "code",
   "metadata": {
    "cell_id": "00013-a4a38ac0-068a-4d95-a615-88db7a73829b",
    "deepnote_to_be_reexecuted": false,
    "source_hash": "186d37e8",
    "execution_start": 1639463715526,
    "execution_millis": 602,
    "deepnote_output_heights": [
     280
    ],
    "deepnote_app_coordinates": {
     "x": 0,
     "y": 69,
     "w": 12,
     "h": 5
    },
    "deepnote_cell_type": "code"
   },
   "source": "plot = sns.scatterplot(x='date', y='deaths', data=deaths_by_month);\n[l.set_visible(False) for (i,l) in enumerate(plot.xaxis.get_ticklabels()) if i % 12 != 0]\nplot.set_xlabel('Year-Month')\nplot.set_ylabel('# Deaths per month');\nplot.set_title('Number of Police Shootings by Month');\nplot.figure.savefig('3.jpeg')",
   "execution_count": 93,
   "outputs": [
    {
     "data": {
      "text/plain": "<Figure size 432x288 with 1 Axes>",
      "image/png": "[encoded data removed]"
     },
     "metadata": {
      "needs_background": "light",
      "image/png": {
       "width": 389,
       "height": 278
      }
     },
     "output_type": "display_data"
    }
   ]
  },
  {
   "cell_type": "markdown",
   "source": "There doesn't appear to be a trend in deaths over time. This is relevant because it implies there is no effect associated with time that might be changing the rate of police shootings. This is important since we are using a dataset spread out over 6 years to make inferences about death rates now. We should also have a graphic giving deathrate over time by race—this will be done below. Since we are running our test over a large time frame a large time effect could impact our model. The only outlier is the month we're in almost certainly because it's not over yet.",
   "metadata": {
    "cell_id": "00014-84f498be-7ddb-4c62-8a49-1c843d638f3b",
    "deepnote_app_coordinates": {
     "x": 0,
     "y": 75,
     "w": 12,
     "h": 5
    },
    "deepnote_cell_type": "markdown"
   }
  },
  {
   "cell_type": "code",
   "metadata": {
    "tags": [],
    "cell_id": "00015-b217e394-7016-4d8b-8e48-aded6cd5dc4c",
    "deepnote_to_be_reexecuted": false,
    "source_hash": "33219bf1",
    "execution_start": 1639463716191,
    "execution_millis": 222,
    "deepnote_app_coordinates": {
     "x": 0,
     "y": 81,
     "w": 12,
     "h": 5
    },
    "deepnote_cell_type": "code"
   },
   "source": "def by_quarter(date):\n    '''\n    Splits months into quarters (not as crowded as months and more precision than years)\n    date: a string in the form YYYY-MM-DD\n    '''\n    year = re.findall(r'\\d{4}', date)[0]\n    month = int(re.findall(r'\\d{4}-(\\d{2})', date)[0])\n    if 1 <= month < 4:\n        return year + '-' + 'Q1'\n    if 4 <= month < 7:\n        return year + '-' + 'Q2'\n    if 7 <= month < 10:\n        return year + '-' + 'Q3'\n    if 10 <= month < 13:\n        return year + '-' + 'Q4'\n\ndeaths_by_month = data[['date', 'race']]\ndeaths_by_month['date'] = [by_quarter(x) for x in deaths_by_month['date']]\ndeaths_by_month = deaths_by_month.groupby(['date', 'race']).size().to_frame().reset_index().rename(columns={0: 'deaths'}).reset_index()\n\ndeaths_by_month.head(3)",
   "execution_count": 94,
   "outputs": [
    {
     "output_type": "execute_result",
     "execution_count": 94,
     "data": {
      "application/vnd.deepnote.dataframe.v2+json": {
       "row_count": 3,
       "column_count": 4,
       "columns": [
        {
         "name": "index",
         "dtype": "int64",
         "stats": {
          "unique_count": 3,
          "nan_count": 0,
          "min": "0",
          "max": "2",
          "histogram": [
           {
            "bin_start": 0,
            "bin_end": 0.2,
            "count": 1
           },
           {
            "bin_start": 0.2,
            "bin_end": 0.4,
            "count": 0
           },
           {
            "bin_start": 0.4,
            "bin_end": 0.6000000000000001,
            "count": 0
           },
           {
            "bin_start": 0.6000000000000001,
            "bin_end": 0.8,
            "count": 0
           },
           {
            "bin_start": 0.8,
            "bin_end": 1,
            "count": 0
           },
           {
            "bin_start": 1,
            "bin_end": 1.2000000000000002,
            "count": 1
           },
           {
            "bin_start": 1.2000000000000002,
            "bin_end": 1.4000000000000001,
            "count": 0
           },
           {
            "bin_start": 1.4000000000000001,
            "bin_end": 1.6,
            "count": 0
           },
           {
            "bin_start": 1.6,
            "bin_end": 1.8,
            "count": 0
           },
           {
            "bin_start": 1.8,
            "bin_end": 2,
            "count": 1
           }
          ]
         }
        },
        {
         "name": "date",
         "dtype": "object",
         "stats": {
          "unique_count": 1,
          "nan_count": 0,
          "categories": [
           {
            "name": "2015-Q1",
            "count": 3
           }
          ]
         }
        },
        {
         "name": "race",
         "dtype": "object",
         "stats": {
          "unique_count": 3,
          "nan_count": 0,
          "categories": [
           {
            "name": "A",
            "count": 1
           },
           {
            "name": "B",
            "count": 1
           },
           {
            "name": "H",
            "count": 1
           }
          ]
         }
        },
        {
         "name": "deaths",
         "dtype": "int64",
         "stats": {
          "unique_count": 3,
          "nan_count": 0,
          "min": "4",
          "max": "64",
          "histogram": [
           {
            "bin_start": 4,
            "bin_end": 10,
            "count": 1
           },
           {
            "bin_start": 10,
            "bin_end": 16,
            "count": 0
           },
           {
            "bin_start": 16,
            "bin_end": 22,
            "count": 0
           },
           {
            "bin_start": 22,
            "bin_end": 28,
            "count": 0
           },
           {
            "bin_start": 28,
            "bin_end": 34,
            "count": 0
           },
           {
            "bin_start": 34,
            "bin_end": 40,
            "count": 0
           },
           {
            "bin_start": 40,
            "bin_end": 46,
            "count": 1
           },
           {
            "bin_start": 46,
            "bin_end": 52,
            "count": 0
           },
           {
            "bin_start": 52,
            "bin_end": 58,
            "count": 0
           },
           {
            "bin_start": 58,
            "bin_end": 64,
            "count": 1
           }
          ]
         }
        },
        {
         "name": "_deepnote_index_column",
         "dtype": "int64"
        }
       ],
       "rows_top": [
        {
         "index": 0,
         "date": "2015-Q1",
         "race": "A",
         "deaths": 4,
         "_deepnote_index_column": 0
        },
        {
         "index": 1,
         "date": "2015-Q1",
         "race": "B",
         "deaths": 64,
         "_deepnote_index_column": 1
        },
        {
         "index": 2,
         "date": "2015-Q1",
         "race": "H",
         "deaths": 43,
         "_deepnote_index_column": 2
        }
       ],
       "rows_bottom": null
      },
      "text/plain": "   index     date race  deaths\n0      0  2015-Q1    A       4\n1      1  2015-Q1    B      64\n2      2  2015-Q1    H      43",
      "text/html": "<div>\n<style scoped>\n    .dataframe tbody tr th:only-of-type {\n        vertical-align: middle;\n    }\n\n    .dataframe tbody tr th {\n        vertical-align: top;\n    }\n\n    .dataframe thead th {\n        text-align: right;\n    }\n</style>\n<table border=\"1\" class=\"dataframe\">\n  <thead>\n    <tr style=\"text-align: right;\">\n      <th></th>\n      <th>index</th>\n      <th>date</th>\n      <th>race</th>\n      <th>deaths</th>\n    </tr>\n  </thead>\n  <tbody>\n    <tr>\n      <th>0</th>\n      <td>0</td>\n      <td>2015-Q1</td>\n      <td>A</td>\n      <td>4</td>\n    </tr>\n    <tr>\n      <th>1</th>\n      <td>1</td>\n      <td>2015-Q1</td>\n      <td>B</td>\n      <td>64</td>\n    </tr>\n    <tr>\n      <th>2</th>\n      <td>2</td>\n      <td>2015-Q1</td>\n      <td>H</td>\n      <td>43</td>\n    </tr>\n  </tbody>\n</table>\n</div>"
     },
     "metadata": {}
    }
   ]
  },
  {
   "cell_type": "code",
   "metadata": {
    "tags": [],
    "cell_id": "00016-7ccffcfb-e9fc-4cea-9d40-e8820af527ce",
    "deepnote_to_be_reexecuted": false,
    "source_hash": "252ca758",
    "execution_start": 1639463716264,
    "execution_millis": 633,
    "deepnote_output_heights": [
     280
    ],
    "deepnote_app_coordinates": {
     "x": 0,
     "y": 87,
     "w": 12,
     "h": 5
    },
    "deepnote_cell_type": "code"
   },
   "source": "# O:'Other', N: 'Native American', A: 'Asian', H: 'Hispanic', B: 'Black, non-Hispanic', W: 'White, non-Hispanic'\nplot = sns.lineplot(x='date', y='deaths', hue='race', data=deaths_by_month);\n[l.set_visible(False) for (i,l) in enumerate(plot.xaxis.get_ticklabels()) if i % 12 != 0]\nplot.set_xlabel('Year-Month')\nplot.set_ylabel('# Deaths per month');\nplot.set_title('Number of Police Shootings by Month and Race');\nplot.figure.savefig('4.jpeg')",
   "execution_count": 95,
   "outputs": [
    {
     "data": {
      "text/plain": "<Figure size 432x288 with 1 Axes>",
      "image/png": "[encoded data removed]"
     },
     "metadata": {
      "needs_background": "light",
      "image/png": {
       "width": 389,
       "height": 278
      }
     },
     "output_type": "display_data"
    }
   ]
  },
  {
   "cell_type": "markdown",
   "source": "We can see that the trend in police shootings over time doesn't change between races. There is no apparent need to take time into account when making inferences about the rate of police shootings for a given race. This graph is relevant because we are using a dataset collected over 6 years to estimate a parameter (rate at which African Americans are shot) that might have changed over time. Since it seems to stay consistent we can continue without worrying. The sharp trend downward is not surprising. That last quarter is for 2021 October through December. Since we are only a little over half way through the quarter there are fewer decedents so this perceived sharp downward trend is of no concern.",
   "metadata": {
    "tags": [],
    "cell_id": "00016-8fb9d952-81ef-4573-836f-c255bfbe783a",
    "deepnote_app_coordinates": {
     "x": 0,
     "y": 93,
     "w": 12,
     "h": 5
    },
    "deepnote_cell_type": "markdown"
   }
  },
  {
   "cell_type": "markdown",
   "source": "### Data Cleaning and Preliminary Information",
   "metadata": {
    "cell_id": "00018-7c77c6e0-41b8-4caa-baa3-a3453cd1d3e7",
    "deepnote_app_coordinates": {
     "x": 0,
     "y": 111,
     "w": 12,
     "h": 5
    },
    "deepnote_cell_type": "markdown"
   }
  },
  {
   "cell_type": "markdown",
   "source": "For Data Cleaning, we first removed all rows with missing armed or race values. Since we are investigating the roles race and armed status play in police shooting, we should deal very carefully with missing values. Interpolation would be a bad idea because we will very likely get wrong data from interpolation. The best thing to do here is to drop all rows with missig values. This is a tough decision because we have less than 7000 datapoints in our dataset and we have 326 rows with missing armed status and 882 rows with missing race information. We are removing a fair number of datapoints but this is nonetheless the best option. We have enough datapoints left to build a strong model and removing that many datapoints will not negatively impact our model performance and analysis in the end. In addition to dropping all rows with missing armed or race values, we removed age and date columns because our EDA above shows that these two columns do not have an effect on variables of interest to our research questions.",
   "metadata": {
    "tags": [],
    "cell_id": "00020-a21dffd5-0221-4a6a-a7a0-0e9843f6f70d",
    "deepnote_app_coordinates": {
     "x": 0,
     "y": 189,
     "w": 12,
     "h": 5
    },
    "deepnote_cell_type": "markdown"
   }
  },
  {
   "cell_type": "code",
   "metadata": {
    "cell_id": "00019-f363938a-c26b-4de3-bc7e-d756ce9f8996",
    "deepnote_to_be_reexecuted": false,
    "source_hash": "5965eb0a",
    "execution_start": 1639463716900,
    "execution_millis": 35,
    "deepnote_app_coordinates": {
     "x": 0,
     "y": 117,
     "w": 12,
     "h": 5
    },
    "deepnote_cell_type": "code"
   },
   "source": "# Data set with only race\nrace_only = data[['race']].dropna().groupby('race').size().to_frame().rename(columns={0: 'decedents'})\n\n# Data set with race and armed status\n# Drop null values\nrace_armed = data[['armed', 'race']].dropna()\n# change 'armed' column to 'armed' or 'unarmed'\nrace_armed['armed'] = ['unarmed' if x == 'unarmed' else 'armed' for x in race_armed['armed']]\n# group by armed status and race\nrace_armed = race_armed.groupby(['race', 'armed']).size().sort_index(ascending=False).reset_index()\n# Rename column\nrace_armed = race_armed.rename(columns={0: 'count'})\n\n# Data set with race and camera\nrace_camera = data[['race', 'body_camera']].dropna()\nrace_camera = race_camera.groupby(['race', 'body_camera']).size().sort_index(ascending=False).reset_index()\nrace_camera = race_camera.rename(columns = {0: 'count', 'body_camera': 'camera'})",
   "execution_count": 96,
   "outputs": []
  },
  {
   "cell_type": "markdown",
   "source": "Observed proportion of shooting victims who are African American",
   "metadata": {
    "cell_id": "00020-866d0674-3c02-4445-9aa1-48bd77067c45",
    "deepnote_app_coordinates": {
     "x": 0,
     "y": 123,
     "w": 12,
     "h": 5
    },
    "deepnote_cell_type": "markdown"
   }
  },
  {
   "cell_type": "code",
   "metadata": {
    "cell_id": "00021-e368ce30-8a5e-4f21-a2da-209565bbe3f8",
    "deepnote_to_be_reexecuted": false,
    "source_hash": "4ca07b71",
    "execution_start": 1639463716948,
    "execution_millis": 3,
    "deepnote_app_coordinates": {
     "x": 0,
     "y": 129,
     "w": 12,
     "h": 5
    },
    "deepnote_cell_type": "code"
   },
   "source": "total_shot = sum(race_only['decedents'])\nprint('Percentage African American: ' + str(race_only.loc[['B']]['decedents'][0] / total_shot))",
   "execution_count": 97,
   "outputs": [
    {
     "name": "stdout",
     "text": "Percentage African American: 0.2659265584970111\n",
     "output_type": "stream",
     "data": {}
    }
   ]
  },
  {
   "cell_type": "markdown",
   "source": "## Intro (The following is NOT part of EDA)",
   "metadata": {
    "cell_id": "00022-6b7e0d13-d358-405b-a05f-1aad48b910da",
    "deepnote_app_coordinates": {
     "x": 0,
     "y": 135,
     "w": 12,
     "h": 5
    },
    "deepnote_cell_type": "markdown"
   }
  },
  {
   "cell_type": "markdown",
   "source": "The ratio of African Americans shot about 0.266 of people who were shot by police. The ratio of African Americans out of the U.S. population is about $\\frac{46936733}{331167284}=0.142$. Both values come from the U.S. Census Bureau; the number of African Americans comes from the figure shown below (the link to the pdf is below the figure) and the total number of people is the amount estimated by the U.S. Census Burea as of Jan 01 2020 (see [this](https://www.census.gov/popclock/) link).\\\nNotably our estimation of the proportion of Americans who are African Americans is higher than the Washington Post estimate. This is because they use the `Black alone` category rather than the `Alone or in Combination`. We use `Alone or in Combination` for reasons like the *'hypodescent laws'* which defined people as Black if they \"had one drop of African blood.\" ([Stanford Encyclopedia of Philosophy](https://plato.stanford.edu/entries/race/)) Even if someone is not 100% African American it is still likely they face adversities due to systemic racism and so they may be subject to increased risk of police shootings.",
   "metadata": {
    "cell_id": "00023-b2bbbe3c-a659-4543-aa1e-7856c75e1108",
    "deepnote_app_coordinates": {
     "x": 0,
     "y": 141,
     "w": 12,
     "h": 5
    },
    "deepnote_cell_type": "markdown"
   }
  },
  {
   "cell_type": "markdown",
   "source": "![Population Proportions](redistricting_table.png)",
   "metadata": {
    "cell_id": "00024-a6710c4c-2a95-4b96-b3ad-90b86eb052da",
    "deepnote_app_coordinates": {
     "x": 0,
     "y": 147,
     "w": 12,
     "h": 5
    },
    "deepnote_cell_type": "markdown"
   }
  },
  {
   "cell_type": "markdown",
   "source": "**Figure 1** Above image is taken from the [U.S. Census Bureau](https://www2.census.gov/programs-surveys/decennial/2020/data/redistricting-supplementary-tables/redistricting-supplementary-table-01.pdf)\n\n",
   "metadata": {
    "cell_id": "00025-c24b3454-70ad-41b7-b298-659a968f4231",
    "deepnote_app_coordinates": {
     "x": 0,
     "y": 153,
     "w": 12,
     "h": 5
    },
    "deepnote_cell_type": "markdown"
   }
  },
  {
   "cell_type": "markdown",
   "source": "We have two goals: \\\n**1)** determine if there is a significant difference between the proportion of African Americans shot by police and the proportion of African Americans in the population (and whether or not this changes with armed status) \\\n**2)** Use a Bayesian model to approximate the true rate at which African Americans are shot by police under the assumptions that shooting of African Americans are more likely to not be reported (and not appear in the database) and that the Washington Post did not take into account that people who are not fully African American still struggle with systemic racism and so may have counted decedents who were not fully black as white.",
   "metadata": {
    "cell_id": "00026-b0bdc368-3300-4b9f-9e7f-4f8996f87af0",
    "deepnote_app_coordinates": {
     "x": 0,
     "y": 159,
     "w": 12,
     "h": 5
    },
    "deepnote_cell_type": "markdown"
   }
  },
  {
   "cell_type": "markdown",
   "source": "## Multiple Hypothesis Testing",
   "metadata": {
    "cell_id": "00027-451002f2-9c77-47f5-a159-947400f43ffc",
    "deepnote_app_coordinates": {
     "x": 0,
     "y": 165,
     "w": 12,
     "h": 5
    },
    "deepnote_cell_type": "markdown"
   }
  },
  {
   "cell_type": "markdown",
   "source": "We are assuming each decedent is African American with probability  𝑝  similar to what this article on predicting race and police shootings does*. Since each decedent makes up a bernoulli random variable we—under the null hypothesis—model the number of African American decedents as  𝐵𝑖𝑛(𝑁,𝑝0)  where  𝑁  is the number of people shot and  𝑝0  is the proportion of the U.S. that is African American. We will use a overall significance level of 0.05 and Holm-Bonferroni procedure to adjust the significance level for each hypothesis test. The Holm-Bonferroni procedure also controls the strong familywise error rate like the Bonferroni adjustement but by ranking the p-values of the tests and adjusting the cutoff linearly we get higher power (this is a different algorithm from Benjamini-Hochberg though it sounds similar). We'll also use the Benjamini-Hochberg procedure since demonstrating that the racial distribution in police shootings under even just one conditions is still useful (i.e. while controlling for the false discovery rate if 5% of rejected tests are false discoveries only one is necessary to determine racial bias).\n\nAssumptions\nThe main assumption we make is that each trial (i.e. each incident of a police shooting) is independent of the others. A moments reflection will reveal that this cannot be true since if a white person is killed they are no longer part of the population and the probability of a decedent being African American goes up under the null hypothesis. We can treat the trials as independent however since the removal of one white person from the population would increase the population proportion of African Americans by ~0.00000000043 percentage points (hardly enough to be significant). A related assumption is that each trial has the same probability of 'success'. Shootings aside, things like birth rate can also affect population proportions. The current proportion of African Americans in the U.S. is close to as high as it's ever been at 14.2%. Since this advantages our null hypothesis we know that birth rate and other forms of demographic drift will not increase the chance of a type 1 error beyond what we control for.\n\n* The authors are looking for the probability of being shot while African American rather than the probability that a decedent was African American. The assumptions are similar.",
   "metadata": {
    "cell_id": "00028-4e4ae3f9-adc2-41f4-9b69-5ac78aab2536",
    "deepnote_app_coordinates": {
     "x": 0,
     "y": 171,
     "w": 12,
     "h": 5
    },
    "deepnote_cell_type": "markdown"
   }
  },
  {
   "cell_type": "markdown",
   "source": "**Hypothesis Testing Question 1**: Is the rate at which African Americans are shot different than would be expected given population proportions?\n\n$H_0$: The probability a decedent is African Americans does not differ from the given population proportion.\\\n$H_1$: The the probability a decedent is African Americans does differ from the given population proportion.\n\nDistribution of African American decedents under the null hypothesis: $Bin(N, p_0) \\implies Bin(5855, 0.142)$ where $N$ is the number of people shot by police and $p_0$ is the proportion of the U.S. population that is African American. The observed number of decedents who are African American is 1557 (26.6%). The p-value—the probability of getting the observed number of African American decedents or more under the null hypothesis—is\n\n$$\\sum_{k = 1557}^{5855} {5855 \\choose k} p_0^k (1-p_0)^{5855 - k}$$",
   "metadata": {
    "tags": [],
    "deepnote_app_coordinates": {
     "x": 0,
     "y": 0,
     "w": 12,
     "h": 5
    },
    "cell_id": "00032-89132b74-8e98-47f1-a1de-73e42c3212af",
    "deepnote_cell_type": "markdown"
   }
  },
  {
   "cell_type": "code",
   "metadata": {
    "tags": [],
    "deepnote_app_coordinates": {
     "x": 0,
     "y": 0,
     "w": 12,
     "h": 5
    },
    "cell_id": "00033-f2dec6d3-9734-4711-93c2-77775f22623c",
    "deepnote_to_be_reexecuted": false,
    "source_hash": "b8e8f78e",
    "execution_start": 1639463716996,
    "execution_millis": 5,
    "deepnote_output_heights": [
     21.1875
    ],
    "deepnote_cell_type": "code"
   },
   "source": "p_race_only = 1-binom.cdf(1557, 5855, 0.142)\np_race_only",
   "execution_count": 98,
   "outputs": [
    {
     "output_type": "execute_result",
     "execution_count": 98,
     "data": {
      "text/plain": "0.0"
     },
     "metadata": {}
    }
   ]
  },
  {
   "cell_type": "markdown",
   "source": "**Hypothesis Testing Question 2:** Is the rate at which African Americans are shot different than would be expected given population proportions depending on armed status?\\\nWe will perform two tests; one test will be on armed individuals and the other will be on unarmed individuals.\n\n**Armed**\\\n$H_0$: The probability an armed decedent is African Americans does not differ from the given population proportion.\\\n$H_1$: The the probability an armed decedent is African Americans does differ from the given population proportion. \n\nNumber of armed decedents: 5248\\\nNumber of Black decedents: 1364\n\n$$\\text{p-value} = \\sum_{k = 1364}^{5248} {5248 \\choose k} p_0^k (1-p_0)^{5248 - k}$$",
   "metadata": {
    "tags": [],
    "deepnote_app_coordinates": {
     "x": 0,
     "y": 0,
     "w": 12,
     "h": 5
    },
    "cell_id": "00034-5ba3e667-1c42-4c00-9caa-9e3ca6faf966",
    "deepnote_cell_type": "markdown"
   }
  },
  {
   "cell_type": "code",
   "metadata": {
    "tags": [],
    "deepnote_app_coordinates": {
     "x": 0,
     "y": 0,
     "w": 12,
     "h": 5
    },
    "cell_id": "00035-0eef0238-5712-4491-852f-f4955ebbf4a8",
    "deepnote_to_be_reexecuted": false,
    "source_hash": "39fc8894",
    "execution_start": 1639463716997,
    "execution_millis": 5,
    "deepnote_output_heights": [
     21.1875
    ],
    "deepnote_cell_type": "code"
   },
   "source": "p_armed = 1-binom.cdf(1364, 5284, 0.142)\np_armed",
   "execution_count": 99,
   "outputs": [
    {
     "output_type": "execute_result",
     "execution_count": 99,
     "data": {
      "text/plain": "0.0"
     },
     "metadata": {}
    }
   ]
  },
  {
   "cell_type": "markdown",
   "source": "**Unarmed**\\\n$H_0$: The probability an unarmed decedent is African Americans does not differ from the given population proportion.\\\n$H_1$: The the probability an unarmed decedent is African Americans does differ from the given population proportion. \n\nNumber of unarmed decedents: 410\\\nNumber of Black decedents: 137\n\n$$\\text{p-value} = \\sum_{k = 137}^{410} {410 \\choose k} p_0^k (1-p_0)^{410 - k}$$",
   "metadata": {
    "tags": [],
    "deepnote_app_coordinates": {
     "x": 0,
     "y": 0,
     "w": 12,
     "h": 5
    },
    "cell_id": "00036-33d489ac-0c22-4355-a497-e986ed054a20",
    "deepnote_cell_type": "markdown"
   }
  },
  {
   "cell_type": "code",
   "metadata": {
    "tags": [],
    "deepnote_app_coordinates": {
     "x": 0,
     "y": 0,
     "w": 12,
     "h": 5
    },
    "cell_id": "00037-82da9512-4384-4436-a0b7-6f6c0b824b8c",
    "deepnote_to_be_reexecuted": false,
    "source_hash": "aeab32d2",
    "execution_start": 1639463717005,
    "execution_millis": 60130,
    "deepnote_output_heights": [
     21.1875
    ],
    "deepnote_cell_type": "code"
   },
   "source": "p_unarmed = 1-binom.cdf(137, 410, 0.142)\np_unarmed",
   "execution_count": 100,
   "outputs": [
    {
     "output_type": "execute_result",
     "execution_count": 100,
     "data": {
      "text/plain": "0.0"
     },
     "metadata": {}
    }
   ]
  },
  {
   "cell_type": "markdown",
   "source": "**Hypothesis Testing Question 3:** Is the rate at which African Americans are shot different than would be expected given population proportions depending on if the officer was wearing a body camera?\\\nWe will perform two tests; one test will be on individuals shot by police without body cameras and the other on individuals shot by police with body cameras.\n\n**No Camera**\\\n$H_0$: The probability a decedent is African Americans does not differ from the given population proportion when the officer wasn't wearing a body camera.\\\n$H_1$: The the probability a decedent is African Americans does differ from the given population proportion when the officer wasn't wearing a body camera. \n\nNumber of decedents: 5032\\\nNumber of Black decedents: 1258\n\n$$\\text{p-value} = \\sum_{k = 1258}^{5032} {5032 \\choose k} p_0^k (1-p_0)^{5032 - k}$$",
   "metadata": {
    "tags": [],
    "deepnote_app_coordinates": {
     "x": 0,
     "y": 0,
     "w": 12,
     "h": 5
    },
    "cell_id": "00038-eeb161c5-0542-48a4-ba0f-8d3921cd47ad",
    "deepnote_cell_type": "markdown"
   }
  },
  {
   "cell_type": "code",
   "metadata": {
    "tags": [],
    "deepnote_app_coordinates": {
     "x": 0,
     "y": 0,
     "w": 12,
     "h": 5
    },
    "cell_id": "00039-cb2aab0b-a166-4943-938c-64975731ba93",
    "deepnote_to_be_reexecuted": false,
    "source_hash": "c10349bf",
    "execution_start": 1639463717014,
    "execution_millis": 60135,
    "deepnote_output_heights": [
     21.1875
    ],
    "deepnote_cell_type": "code"
   },
   "source": "p_NoCamera = 1-binom.cdf(1258, 5032, 0.142)\np_NoCamera",
   "execution_count": 101,
   "outputs": [
    {
     "output_type": "execute_result",
     "execution_count": 101,
     "data": {
      "text/plain": "0.0"
     },
     "metadata": {}
    }
   ]
  },
  {
   "cell_type": "markdown",
   "source": "**Camera**\\\n$H_0$: The probability a decedent is African Americans does not differ from the given population proportion when the officer was wearing a body camera.\\\n$H_1$: The the probability a decedent is African Americans does differ from the given population proportion when the officer was wearing a body camera. \n\nNumber of decedents: 832\\\nNumber of Black decedents: 299\n$$\\text{p-value} = \\sum_{k = 299}^{832} {832 \\choose k} p_0^k (1-p_0)^{832 - k}$$",
   "metadata": {
    "tags": [],
    "deepnote_app_coordinates": {
     "x": 0,
     "y": 0,
     "w": 12,
     "h": 5
    },
    "cell_id": "00040-bca6940d-3bff-4e3f-8f6c-2fd63cd410d2",
    "deepnote_cell_type": "markdown"
   }
  },
  {
   "cell_type": "code",
   "metadata": {
    "tags": [],
    "deepnote_app_coordinates": {
     "x": 0,
     "y": 0,
     "w": 12,
     "h": 5
    },
    "cell_id": "00041-225ada2d-9999-4b9b-bbe7-1a685c386e92",
    "deepnote_to_be_reexecuted": false,
    "source_hash": "96ef5716",
    "execution_start": 1639463717029,
    "execution_millis": 60138,
    "deepnote_output_heights": [
     21.1875
    ],
    "deepnote_cell_type": "code"
   },
   "source": "p_Camera = 1-binom.cdf(299, 832, 0.142)\np_Camera",
   "execution_count": 102,
   "outputs": [
    {
     "output_type": "execute_result",
     "execution_count": 102,
     "data": {
      "text/plain": "0.0"
     },
     "metadata": {}
    }
   ]
  },
  {
   "cell_type": "markdown",
   "source": "Holm-Bonferroni Procedure:\n\nFor ordered (lowest to highest) p-values $P_1, P_2,...,P_m$ where $P_k$ is the k<sup>th</sup> p-value we can adjust the significance level cutoff $\\alpha$ for each p-value and control the strong familywise error rate using the following method. If $P_k < \\frac{\\alpha}{m+1-k}$",
   "metadata": {
    "tags": [],
    "deepnote_app_coordinates": {
     "x": 0,
     "y": 0,
     "w": 12,
     "h": 5
    },
    "cell_id": "00042-a5b04fa3-526a-4259-8f69-5e3dfc04edec",
    "deepnote_cell_type": "markdown"
   }
  },
  {
   "cell_type": "code",
   "metadata": {
    "tags": [],
    "deepnote_app_coordinates": {
     "x": 0,
     "y": 0,
     "w": 12,
     "h": 5
    },
    "cell_id": "00043-3be5b7a7-48ec-4f73-bae6-34edd6cc84dd",
    "deepnote_to_be_reexecuted": false,
    "source_hash": "ea802e14",
    "execution_start": 1639463717071,
    "execution_millis": 60095,
    "deepnote_output_heights": [
     21.1875
    ],
    "deepnote_cell_type": "code"
   },
   "source": "p_val_list = np.sort([p_race_only, p_armed, p_unarmed, p_NoCamera, p_Camera])\np_val_list",
   "execution_count": 103,
   "outputs": [
    {
     "output_type": "execute_result",
     "execution_count": 103,
     "data": {
      "text/plain": "array([0., 0., 0., 0., 0.])"
     },
     "metadata": {}
    }
   ]
  },
  {
   "cell_type": "markdown",
   "source": "The lowest cutoff is $\\frac{0.05}{5} = 0.01$. Our highest p-value is 0. We will reject all null hypotheses and conclude that the probability a decedent is African American does not follow the population proportion regardles of armed status or whether or not the officer(s) were wearing a body camera.",
   "metadata": {
    "tags": [],
    "deepnote_app_coordinates": {
     "x": 0,
     "y": 0,
     "w": 12,
     "h": 5
    },
    "cell_id": "00044-7fc36296-a2a6-4a7e-9253-b67c090e2f13",
    "deepnote_cell_type": "markdown"
   }
  },
  {
   "cell_type": "markdown",
   "source": "Benjamini-Hochberg Procedure:",
   "metadata": {
    "tags": [],
    "deepnote_app_coordinates": {
     "x": 0,
     "y": 0,
     "w": 12,
     "h": 5
    },
    "cell_id": "00045-8d625096-b241-479f-a52a-0a192776db55",
    "deepnote_cell_type": "markdown"
   }
  },
  {
   "cell_type": "code",
   "metadata": {
    "tags": [],
    "deepnote_app_coordinates": {
     "x": 0,
     "y": 0,
     "w": 12,
     "h": 5
    },
    "cell_id": "00046-0db0ee54-085c-4338-875a-732ba51a6624",
    "deepnote_to_be_reexecuted": false,
    "source_hash": "3a1e6453",
    "execution_start": 1639463717071,
    "execution_millis": 2,
    "deepnote_output_heights": [
     21.1875
    ],
    "deepnote_cell_type": "code"
   },
   "source": "# rank * alpha / M\nvalues = np.array([i * 0.05 / 5 for i in range(1,6)])\nfor i in np.arange(4,-1,-1):\n    if p_val_list[i] < values[i]:\n        cutoff = p_val_list[i]\ncutoff",
   "execution_count": 104,
   "outputs": [
    {
     "output_type": "execute_result",
     "execution_count": 104,
     "data": {
      "text/plain": "0.0"
     },
     "metadata": {}
    }
   ]
  },
  {
   "cell_type": "markdown",
   "source": "Unsurprisingly our cutoff is zero. Since we compare each value to see if it's less than *or equal* we reject each test again.\n\nIn conclusion, the proportion of decedents who are African American does not follow population proportions.",
   "metadata": {
    "tags": [],
    "deepnote_app_coordinates": {
     "x": 0,
     "y": 0,
     "w": 12,
     "h": 5
    },
    "cell_id": "00047-2d7586a4-14f9-40de-91bc-52a3c37ad5c5",
    "deepnote_cell_type": "markdown"
   }
  },
  {
   "cell_type": "markdown",
   "source": "## Bayesian Modeling",
   "metadata": {
    "cell_id": "00029-282e1528-0b05-43ce-bcf7-4fb1cb54f684",
    "deepnote_app_coordinates": {
     "x": 0,
     "y": 177,
     "w": 12,
     "h": 5
    },
    "deepnote_cell_type": "markdown"
   }
  },
  {
   "cell_type": "markdown",
   "source": "$P(\\theta | X_1,X_2,...,X_n) \\propto P(X_1,X_2,...,X_n | \\theta)P(\\theta)$ \\\n$X_i$ a bernoulli random variable indicating whether or not decedent *i* was African American with probability $\\theta$. The likelihood $P(X_1,X_2,...,X_n | \\theta)$ is a binomial distribution and $P(\\theta)$ is a beta distribution with a mean greater than 0.266. We chose a mean of 1/3 with beta distribution shape parameters $\\alpha = 3$ and $\\beta = 6$. We kept the size of $\\alpha$ and $\\beta$ low since we do not have high confidence in our prior.",
   "metadata": {
    "cell_id": "00030-7e457d16-5534-4575-ba42-add4a30c4377",
    "deepnote_app_coordinates": {
     "x": 0,
     "y": 183,
     "w": 12,
     "h": 5
    },
    "deepnote_cell_type": "markdown"
   }
  },
  {
   "cell_type": "markdown",
   "source": "### 1. Data Processing\n\nPrepare the data by one-hot encoding all categorical variables. Also, impute the NaN values of age as average of whole population.",
   "metadata": {
    "tags": [],
    "deepnote_app_coordinates": {
     "x": 0,
     "y": 0,
     "w": 12,
     "h": 5
    },
    "cell_id": "00036-b3302b45-5e9c-498d-8db6-30eaaa9f04b5",
    "deepnote_cell_type": "markdown"
   }
  },
  {
   "cell_type": "code",
   "metadata": {
    "tags": [],
    "deepnote_app_coordinates": {
     "x": 0,
     "y": 0,
     "w": 12,
     "h": 5
    },
    "cell_id": "00039-7514ae9e-c6eb-43ae-a85d-c9e8989855ab",
    "deepnote_to_be_reexecuted": false,
    "source_hash": "2368e627",
    "execution_start": 1639463717072,
    "execution_millis": 18,
    "deepnote_cell_type": "code"
   },
   "source": "# drop the undefined races\ndata = data.dropna(subset = ['race'])\n\n# select features\nXf = data[['armed','age','gender','signs_of_mental_illness', 'threat_level', 'flee', 'body_camera']]\nXf['is_black'] = data['race'] == 'B'\n\n# One hot encoding features\nXf = pd.get_dummies(Xf,dummy_na=True,drop_first=True)\n\n# impute missing features\nXf.loc[Xf['age'].isna(),'age'] = Xf['age'].mean()",
   "execution_count": 105,
   "outputs": []
  },
  {
   "cell_type": "markdown",
   "source": "### 2. Pooled Bayesian Modeling\n\nFirst consider simple pooled model:\n$$X|\\theta \\sim Bernoulli(\\theta)$$\n\nWith prior $\\theta \\sim Beta(3,6)$  Simulate for 1000 times.",
   "metadata": {
    "tags": [],
    "deepnote_app_coordinates": {
     "x": 0,
     "y": 0,
     "w": 12,
     "h": 5
    },
    "cell_id": "00040-9f561f72-9cc9-490a-8d2f-6fcaed4a9ad2",
    "deepnote_cell_type": "markdown"
   }
  },
  {
   "cell_type": "code",
   "metadata": {
    "tags": [],
    "deepnote_app_coordinates": {
     "x": 0,
     "y": 0,
     "w": 12,
     "h": 5
    },
    "cell_id": "00042-20e91f56-b404-48de-8767-8a2b7cf069df",
    "deepnote_to_be_reexecuted": false,
    "source_hash": "4e75f269",
    "execution_start": 1639463717135,
    "execution_millis": 11159,
    "deepnote_output_heights": [
     null,
     22,
     22
    ],
    "deepnote_cell_type": "code"
   },
   "source": "def pooled_inference(alpha, beta, study_df):\n    \"\"\"\n    Creates and fits a PyMC3 model corresponding to the graphical model above\n    Inputs:\n        alpha_value, beta_value : floats, parameters of the prior Beta Distribution\n        study_df : DataFrame containing study data\n        Outputs: (model, trace)\n    \"\"\"\n    with pm.Model() as model:\n        theta = pm.Beta('theta', alpha=alpha, beta=beta)\n        X = pm.Bernoulli('is_black', p=theta, observed=study_df['is_black'])\n        trace = pm.sample(1000, tune=1000, target_accept=0.95)\n    return (model, trace)\n\n# assume the true theta is around beta(1,2) with mean of 0.33> 0.266\nmdl, trace = pooled_inference(3, 6, Xf)",
   "execution_count": 106,
   "outputs": [
    {
     "name": "stderr",
     "text": "Auto-assigning NUTS sampler...\nInitializing NUTS using jitter+adapt_diag...\nSequential sampling (2 chains in 1 job)\nNUTS: [theta]\n",
     "output_type": "stream",
     "data": {}
    },
    {
     "data": {
      "text/plain": "<IPython.core.display.HTML object>",
      "text/html": "\n    <div>\n        <style>\n            /* Turns off some styling */\n            progress {\n                /* gets rid of default border in Firefox and Opera. */\n                border: none;\n                /* Needs to be in here for Safari polyfill so background images work as expected. */\n                background-size: auto;\n            }\n            .progress-bar-interrupted, .progress-bar-interrupted::-webkit-progress-bar {\n                background: #F44336;\n            }\n        </style>\n      <progress value='0' class='' max='2000' style='width:300px; height:20px; vertical-align: middle;'></progress>\n      \n    </div>\n    "
     },
     "metadata": {},
     "output_type": "display_data"
    },
    {
     "data": {
      "text/plain": "<IPython.core.display.HTML object>",
      "text/html": "\n    <div>\n        <style>\n            /* Turns off some styling */\n            progress {\n                /* gets rid of default border in Firefox and Opera. */\n                border: none;\n                /* Needs to be in here for Safari polyfill so background images work as expected. */\n                background-size: auto;\n            }\n            .progress-bar-interrupted, .progress-bar-interrupted::-webkit-progress-bar {\n                background: #F44336;\n            }\n        </style>\n      <progress value='0' class='' max='2000' style='width:300px; height:20px; vertical-align: middle;'></progress>\n      \n    </div>\n    "
     },
     "metadata": {},
     "output_type": "display_data"
    },
    {
     "name": "stderr",
     "text": "Sampling 2 chains for 1_000 tune and 1_000 draw iterations (2_000 + 2_000 draws total) took 6 seconds.\n",
     "output_type": "stream",
     "data": {}
    }
   ]
  },
  {
   "cell_type": "markdown",
   "source": "The result shows 95% credible interval is [0.255,0.277] which covers the empirical result 0.266. There is no indication that police shootings of African American is  under-reported.",
   "metadata": {
    "tags": [],
    "deepnote_app_coordinates": {
     "x": 0,
     "y": 0,
     "w": 12,
     "h": 5
    },
    "cell_id": "00054-374aa63d-38e2-47d7-b4dc-fb3de2f7265e",
    "deepnote_cell_type": "markdown"
   }
  },
  {
   "cell_type": "code",
   "metadata": {
    "tags": [],
    "deepnote_app_coordinates": {
     "x": 0,
     "y": 0,
     "w": 12,
     "h": 5
    },
    "cell_id": "00055-02f64d3d-223c-48f4-b69a-1e5e59965f6e",
    "deepnote_to_be_reexecuted": false,
    "source_hash": "8bd53b80",
    "execution_start": 1639463728295,
    "execution_millis": 1555,
    "deepnote_output_heights": [
     null,
     153.984375
    ],
    "deepnote_cell_type": "code"
   },
   "source": "# Trace plot\npm.traceplot(trace)\n\n# report mean and credible interval\nmean = np.mean(trace['theta'])\nlow = np.percentile(trace['theta'], 2.5)\nhigh = np.percentile(trace['theta'], 97.5)\n\nprint(f\"Estimated theta {mean:.3f}\")\nprint(f\"95% BCI: [{low:.3f}, {high:.3f}]\")",
   "execution_count": 107,
   "outputs": [
    {
     "name": "stderr",
     "text": "Got error No model on context stack. trying to find log_likelihood in translation.\nGot error No model on context stack. trying to find log_likelihood in translation.\nEstimated theta 0.266\n95% BCI: [0.255, 0.277]\n",
     "output_type": "stream",
     "data": {}
    },
    {
     "data": {
      "text/plain": "<Figure size 864x144 with 2 Axes>",
      "image/png": "[encoded data removed]"
     },
     "metadata": {
      "needs_background": "light",
      "image/png": {
       "width": 693,
       "height": 154
      }
     },
     "output_type": "display_data"
    }
   ]
  },
  {
   "cell_type": "markdown",
   "source": "### 3. Hierarchical Model With Body Camera Variable\nAssumption:\n\nThe presence of body camera should be independent to the case because it happens randomly. However, cases without body camera record are not likely to be reported. Because without body camera, police can decline the shooting and reported to other incidence without evidence.\n\nEDA\n\nHere is the rate of body camera vs race. The rate of African-American deadly shootings have higher camera presence rate, especially compare to white. We will include the presence of a camera as a variable to determine if this changes the estimated proportion of African American decedents.",
   "metadata": {
    "tags": [],
    "deepnote_app_coordinates": {
     "x": 0,
     "y": 0,
     "w": 12,
     "h": 5
    },
    "cell_id": "00064-f870ecd0-af78-4649-b991-c08ebe59eea5",
    "deepnote_cell_type": "markdown"
   }
  },
  {
   "cell_type": "code",
   "metadata": {
    "tags": [],
    "deepnote_app_coordinates": {
     "x": 0,
     "y": 0,
     "w": 12,
     "h": 5
    },
    "cell_id": "00057-2e0e745d-8940-4036-8783-bb7bcf80dc75",
    "deepnote_to_be_reexecuted": false,
    "source_hash": "d68736b1",
    "deepnote_output_heights": [
     280
    ],
    "execution_start": 1639463729899,
    "execution_millis": 440,
    "deepnote_cell_type": "code"
   },
   "source": "counts_by_race = data.groupby(['race'])['body_camera'].mean()\n\nsns.barplot(counts_by_race.index, \n            counts_by_race, \n            order=['O', 'N', 'A', 'H', 'B', 'W'], \n            palette = 'Blues_d')\nplt.xlabel('Race')\nplt.ylabel('Rate Body Camera Open');\nplt.title('Rate of Body Camera');",
   "execution_count": 108,
   "outputs": [
    {
     "data": {
      "text/plain": "<Figure size 432x288 with 1 Axes>",
      "image/png": "[encoded data removed]"
     },
     "metadata": {
      "needs_background": "light",
      "image/png": {
       "width": 398,
       "height": 278
      }
     },
     "output_type": "display_data"
    }
   ]
  },
  {
   "cell_type": "markdown",
   "source": "Build the Bayesian model: $X_i | \\theta, \\beta \\sim Bern(\\pi)$, where $\\pi = \\theta e^{-\\beta z_i}$, where $z_i \\in \\{0,1\\}$ indicates whether the body camera record is MISSING or not (1 is missing).\n\nThe prior of θ keeps the same: θ∼Beta(3,6). Since we assume β>0, take the prior β=Unif[0,1].",
   "metadata": {
    "tags": [],
    "deepnote_app_coordinates": {
     "x": 0,
     "y": 0,
     "w": 12,
     "h": 5
    },
    "cell_id": "00058-c57e8fe3-111e-4117-92fe-95a602e00cad",
    "deepnote_cell_type": "markdown"
   }
  },
  {
   "cell_type": "code",
   "metadata": {
    "tags": [],
    "deepnote_app_coordinates": {
     "x": 0,
     "y": 0,
     "w": 12,
     "h": 5
    },
    "cell_id": "00059-1d8e302a-71c4-4cb3-8ab2-65ec62fa4cb9",
    "deepnote_to_be_reexecuted": false,
    "source_hash": "aa0aab28",
    "execution_start": 1639463730188,
    "deepnote_output_heights": [
     null,
     22,
     22
    ],
    "execution_millis": 26343,
    "deepnote_cell_type": "code"
   },
   "source": "def hierarchical_inference(alpha, beta, study_df):\n    \"\"\"\n    Creates and fits a PyMC3 model corresponding to the graphical model above\n    Inputs:\n        alpha_value, beta_value : floats, parameters of the prior Beta Distribution\n        study_df : DataFrame containing study data\n        Outputs: (model, trace)\n    \"\"\"\n    with pm.Model() as model:\n        body_camera = pm.Data(\"no_camera\", 1-study_df[\"body_camera\"])\n        theta = pm.Beta('theta', alpha=alpha, beta=beta)\n        beta = pm.Uniform('beta')\n        X = pm.Bernoulli('is_black', p=theta * np.exp(-beta*body_camera), observed=study_df['is_black'])\n        trace = pm.sample(1000, tune=1000, target_accept=0.95)\n    return (model, trace)\n\n# assume the true thea is around beta(1,2) with mean of 0.33> 0.266\nmdl, trace = hierarchical_inference(3, 6, Xf)\n",
   "execution_count": 109,
   "outputs": [
    {
     "name": "stderr",
     "text": "Auto-assigning NUTS sampler...\nInitializing NUTS using jitter+adapt_diag...\nSequential sampling (2 chains in 1 job)\nNUTS: [beta, theta]\n",
     "output_type": "stream",
     "data": {}
    },
    {
     "data": {
      "text/plain": "<IPython.core.display.HTML object>",
      "text/html": "\n    <div>\n        <style>\n            /* Turns off some styling */\n            progress {\n                /* gets rid of default border in Firefox and Opera. */\n                border: none;\n                /* Needs to be in here for Safari polyfill so background images work as expected. */\n                background-size: auto;\n            }\n            .progress-bar-interrupted, .progress-bar-interrupted::-webkit-progress-bar {\n                background: #F44336;\n            }\n        </style>\n      <progress value='0' class='' max='2000' style='width:300px; height:20px; vertical-align: middle;'></progress>\n      \n    </div>\n    "
     },
     "metadata": {},
     "output_type": "display_data"
    },
    {
     "data": {
      "text/plain": "<IPython.core.display.HTML object>",
      "text/html": "\n    <div>\n        <style>\n            /* Turns off some styling */\n            progress {\n                /* gets rid of default border in Firefox and Opera. */\n                border: none;\n                /* Needs to be in here for Safari polyfill so background images work as expected. */\n                background-size: auto;\n            }\n            .progress-bar-interrupted, .progress-bar-interrupted::-webkit-progress-bar {\n                background: #F44336;\n            }\n        </style>\n      <progress value='0' class='' max='2000' style='width:300px; height:20px; vertical-align: middle;'></progress>\n      \n    </div>\n    "
     },
     "metadata": {},
     "output_type": "display_data"
    },
    {
     "name": "stderr",
     "text": "Sampling 2 chains for 1_000 tune and 1_000 draw iterations (2_000 + 2_000 draws total) took 20 seconds.\nThe number of effective samples is smaller than 25% for some parameters.\n",
     "output_type": "stream",
     "data": {}
    }
   ]
  },
  {
   "cell_type": "markdown",
   "source": "The visualiation of model is shown below. The observed variable is whether the case has body camera record.",
   "metadata": {
    "tags": [],
    "deepnote_app_coordinates": {
     "x": 0,
     "y": 0,
     "w": 12,
     "h": 5
    },
    "cell_id": "00060-1599d5c1-62f3-4982-b9f3-c04847ba3e59",
    "deepnote_cell_type": "markdown"
   }
  },
  {
   "cell_type": "code",
   "metadata": {
    "tags": [],
    "deepnote_app_coordinates": {
     "x": 0,
     "y": 0,
     "w": 12,
     "h": 5
    },
    "cell_id": "00061-c23a917f-3556-4581-a72d-a556fb4dbb8a",
    "deepnote_to_be_reexecuted": false,
    "source_hash": "2ec8193b",
    "execution_start": 1639463756554,
    "execution_millis": 71,
    "deepnote_output_heights": [
     319.328125
    ],
    "deepnote_cell_type": "code"
   },
   "source": "pm.model_to_graphviz(mdl)",
   "execution_count": 110,
   "outputs": [
    {
     "output_type": "execute_result",
     "execution_count": 110,
     "data": {
      "image/svg+xml": "<?xml version=\"1.0\" encoding=\"UTF-8\" standalone=\"no\"?>\n<!DOCTYPE svg PUBLIC \"-//W3C//DTD SVG 1.1//EN\"\n \"http://www.w3.org/Graphics/SVG/1.1/DTD/svg11.dtd\">\n<!-- Generated by graphviz version 2.40.1 (20161225.0304)\n -->\n<!-- Title: %3 Pages: 1 -->\n<svg width=\"358pt\" height=\"238pt\"\n viewBox=\"0.00 0.00 358.18 237.93\" xmlns=\"http://www.w3.org/2000/svg\" xmlns:xlink=\"http://www.w3.org/1999/xlink\">\n<g id=\"graph0\" class=\"graph\" transform=\"scale(1 1) rotate(0) translate(4 233.93)\">\n<title>%3</title>\n<polygon fill=\"#ffffff\" stroke=\"transparent\" points=\"-4,4 -4,-233.93 354.1838,-233.93 354.1838,4 -4,4\"/>\n<g id=\"clust1\" class=\"cluster\">\n<title>cluster5,855</title>\n<path fill=\"none\" stroke=\"#000000\" d=\"M20,-8C20,-8 128,-8 128,-8 134,-8 140,-14 140,-20 140,-20 140,-209.93 140,-209.93 140,-215.93 134,-221.93 128,-221.93 128,-221.93 20,-221.93 20,-221.93 14,-221.93 8,-215.93 8,-209.93 8,-209.93 8,-20 8,-20 8,-14 14,-8 20,-8\"/>\n<text text-anchor=\"middle\" x=\"111.5\" y=\"-15.8\" font-family=\"Times,serif\" font-size=\"14.00\" fill=\"#000000\">5,855</text>\n</g>\n<!-- is_black -->\n<g id=\"node1\" class=\"node\">\n<title>is_black</title>\n<ellipse fill=\"#d3d3d3\" stroke=\"#000000\" cx=\"74\" cy=\"-76.4767\" rx=\"57.9655\" ry=\"37.4533\"/>\n<text text-anchor=\"middle\" x=\"74\" y=\"-87.7767\" font-family=\"Times,serif\" font-size=\"14.00\" fill=\"#000000\">is_black</text>\n<text text-anchor=\"middle\" x=\"74\" y=\"-72.7767\" font-family=\"Times,serif\" font-size=\"14.00\" fill=\"#000000\">~</text>\n<text text-anchor=\"middle\" x=\"74\" y=\"-57.7767\" font-family=\"Times,serif\" font-size=\"14.00\" fill=\"#000000\">Bernoulli</text>\n</g>\n<!-- no_camera -->\n<g id=\"node2\" class=\"node\">\n<title>no_camera</title>\n<path fill=\"#d3d3d3\" stroke=\"#000000\" d=\"M109.5,-213.93C109.5,-213.93 38.5,-213.93 38.5,-213.93 32.5,-213.93 26.5,-207.93 26.5,-201.93 26.5,-201.93 26.5,-172.93 26.5,-172.93 26.5,-166.93 32.5,-160.93 38.5,-160.93 38.5,-160.93 109.5,-160.93 109.5,-160.93 115.5,-160.93 121.5,-166.93 121.5,-172.93 121.5,-172.93 121.5,-201.93 121.5,-201.93 121.5,-207.93 115.5,-213.93 109.5,-213.93\"/>\n<text text-anchor=\"middle\" x=\"74\" y=\"-198.73\" font-family=\"Times,serif\" font-size=\"14.00\" fill=\"#000000\">no_camera</text>\n<text text-anchor=\"middle\" x=\"74\" y=\"-183.73\" font-family=\"Times,serif\" font-size=\"14.00\" fill=\"#000000\">~</text>\n<text text-anchor=\"middle\" x=\"74\" y=\"-168.73\" font-family=\"Times,serif\" font-size=\"14.00\" fill=\"#000000\">Data</text>\n</g>\n<!-- no_camera&#45;&gt;is_black -->\n<g id=\"edge3\" class=\"edge\">\n<title>no_camera&#45;&gt;is_black</title>\n<path fill=\"none\" stroke=\"#000000\" d=\"M74,-160.8539C74,-149.9351 74,-136.944 74,-124.4675\"/>\n<polygon fill=\"#000000\" stroke=\"#000000\" points=\"77.5001,-124.1649 74,-114.165 70.5001,-124.165 77.5001,-124.1649\"/>\n</g>\n<!-- beta -->\n<g id=\"node3\" class=\"node\">\n<title>beta</title>\n<ellipse fill=\"none\" stroke=\"#000000\" cx=\"202\" cy=\"-187.43\" rx=\"53.9813\" ry=\"37.4533\"/>\n<text text-anchor=\"middle\" x=\"202\" y=\"-198.73\" font-family=\"Times,serif\" font-size=\"14.00\" fill=\"#000000\">beta</text>\n<text text-anchor=\"middle\" x=\"202\" y=\"-183.73\" font-family=\"Times,serif\" font-size=\"14.00\" fill=\"#000000\">~</text>\n<text text-anchor=\"middle\" x=\"202\" y=\"-168.73\" font-family=\"Times,serif\" font-size=\"14.00\" fill=\"#000000\">Uniform</text>\n</g>\n<!-- beta&#45;&gt;is_black -->\n<g id=\"edge1\" class=\"edge\">\n<title>beta&#45;&gt;is_black</title>\n<path fill=\"none\" stroke=\"#000000\" d=\"M168.0344,-157.9878C152.3769,-144.4155 133.6176,-128.1546 116.9875,-113.7392\"/>\n<polygon fill=\"#000000\" stroke=\"#000000\" points=\"118.8664,-110.736 109.0175,-106.8307 114.2814,-116.0254 118.8664,-110.736\"/>\n</g>\n<!-- theta -->\n<g id=\"node4\" class=\"node\">\n<title>theta</title>\n<ellipse fill=\"none\" stroke=\"#000000\" cx=\"312\" cy=\"-187.43\" rx=\"38.3684\" ry=\"37.4533\"/>\n<text text-anchor=\"middle\" x=\"312\" y=\"-198.73\" font-family=\"Times,serif\" font-size=\"14.00\" fill=\"#000000\">theta</text>\n<text text-anchor=\"middle\" x=\"312\" y=\"-183.73\" font-family=\"Times,serif\" font-size=\"14.00\" fill=\"#000000\">~</text>\n<text text-anchor=\"middle\" x=\"312\" y=\"-168.73\" font-family=\"Times,serif\" font-size=\"14.00\" fill=\"#000000\">Beta</text>\n</g>\n<!-- theta&#45;&gt;is_black -->\n<g id=\"edge2\" class=\"edge\">\n<title>theta&#45;&gt;is_black</title>\n<path fill=\"none\" stroke=\"#000000\" d=\"M283.4049,-162.3828C277.543,-157.9049 271.2485,-153.5325 265,-149.9533 224.3585,-126.6732 174.9251,-107.8852 136.5319,-95.1361\"/>\n<polygon fill=\"#000000\" stroke=\"#000000\" points=\"137.6134,-91.8074 127.0208,-92.0258 135.4377,-98.4607 137.6134,-91.8074\"/>\n</g>\n</g>\n</svg>\n",
      "text/plain": "<graphviz.graphs.Digraph at 0x7fa0ba970c90>"
     },
     "metadata": {}
    }
   ]
  },
  {
   "cell_type": "markdown",
   "source": "The result shows 95% credible interval is [0.333, 0.394] which is significantly different thant the empirical result 0.266. This is leads the result that the police short of African American is indeed unde-reported.\n\nThis also gives the estimated probability of under report if no camera present: P=1−exp⁡(1−β)P =1- \\exp(1-\\beta)P=1−exp(1−β) The 95% credible interval is [0.232,0.374][0.232,0.374][0.232,0.374]. On average, 30.8% of the cases without body camera record will be under reported.",
   "metadata": {
    "tags": [],
    "deepnote_app_coordinates": {
     "x": 0,
     "y": 0,
     "w": 12,
     "h": 5
    },
    "cell_id": "00062-97bcc03e-29c5-4aab-8df9-34e90baa66f3",
    "deepnote_cell_type": "markdown"
   }
  },
  {
   "cell_type": "code",
   "metadata": {
    "tags": [],
    "deepnote_app_coordinates": {
     "x": 0,
     "y": 0,
     "w": 12,
     "h": 5
    },
    "cell_id": "00063-d284b955-58a0-49b6-a468-1b638a7c8279",
    "deepnote_to_be_reexecuted": false,
    "source_hash": "3f0a59f6",
    "execution_start": 1639463756642,
    "execution_millis": 2878,
    "deepnote_output_heights": [
     null,
     262.46875
    ],
    "deepnote_cell_type": "code"
   },
   "source": "# Trace plot\npm.traceplot(trace)\n\n# report mean and credible interval\nmean = np.mean(trace['theta'])\nlow = np.percentile(trace['theta'], 2.5)\nhigh = np.percentile(trace['theta'], 97.5)\n\nprint(f\"Estimated theta {mean:.3f}\")\nprint(f\"95% BCI: [{low:.3f}, {high:.3f}]\")\n\n# report mean and credible interval\nmean = 1- np.exp(-np.mean(trace['beta']))\nhigh = 1- np.exp(- np.percentile(trace['beta'], 2.5))\nlow =1-np.exp(-np.percentile(trace['beta'], 97.5))\n\nprint(f\"Estimated probability of under-report if no camera present {mean:.3f}\")\nprint(f\"95% BCI: [{low:.3f}, {high:.3f}]\")",
   "execution_count": 111,
   "outputs": [
    {
     "name": "stderr",
     "text": "Got error No model on context stack. trying to find log_likelihood in translation.\nGot error No model on context stack. trying to find log_likelihood in translation.\nEstimated theta 0.362\n95% BCI: [0.330, 0.396]\nEstimated probability of under-report if no camera present 0.309\n95% BCI: [0.372, 0.241]\n",
     "output_type": "stream",
     "data": {}
    },
    {
     "data": {
      "text/plain": "<Figure size 864x288 with 4 Axes>",
      "image/png": "[encoded data removed]"
     },
     "metadata": {
      "needs_background": "light",
      "image/png": {
       "width": 687,
       "height": 262
      }
     },
     "output_type": "display_data"
    }
   ]
  },
  {
   "cell_type": "markdown",
   "source": "<a style='text-decoration:none;line-height:16px;display:flex;color:#5B5B62;padding:10px;justify-content:end;' href='https://deepnote.com?utm_source=created-in-deepnote-cell&projectId=32e079f4-7538-411f-902e-8233a612d242' target=\"_blank\">\n<img alt='Created in deepnote.com' style='display:inline;max-height:16px;margin:0px;margin-right:7.5px;' src='data:image/svg+xml;base64,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' > </img>\nCreated in <span style='font-weight:600;margin-left:4px;'>Deepnote</span></a>",
   "metadata": {
    "tags": [],
    "created_in_deepnote_cell": true,
    "deepnote_cell_type": "markdown"
   }
  }
 ],
 "nbformat": 4,
 "nbformat_minor": 5,
 "metadata": {
  "kernelspec": {
   "display_name": "Python 3 (ipykernel)",
   "language": "python",
   "name": "python3"
  },
  "language_info": {
   "codemirror_mode": {
    "name": "ipython",
    "version": 3
   },
   "file_extension": ".py",
   "mimetype": "text/x-python",
   "name": "python",
   "nbconvert_exporter": "python",
   "pygments_lexer": "ipython3",
   "version": "3.9.7"
  },
  "deepnote_notebook_id": "384e9dc3-64a8-47a2-87d1-b4f1a736e735",
  "deepnote": {
   "is_reactive": true
  },
  "deepnote_execution_queue": [],
  "deepnote_app_layout": "article"
 }
}